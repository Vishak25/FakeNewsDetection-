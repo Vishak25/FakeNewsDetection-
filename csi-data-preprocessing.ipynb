{
 "cells": [
  {
   "cell_type": "code",
   "execution_count": 7,
   "id": "initial_id",
   "metadata": {
    "ExecuteTime": {
     "end_time": "2024-11-13T20:00:10.954111Z",
     "start_time": "2024-11-13T20:00:10.943918Z"
    },
    "collapsed": true
   },
   "outputs": [],
   "source": [
    "import os\n",
    "import json\n",
    "import pandas as pd\n",
    "\n",
    "# Directory containing the JSON files\n",
    "json_directory = \"./dataset/rumdect/Weibo/\"\n",
    "\n",
    "# Function to process individual JSON files\n",
    "def process_json_file(file_path):\n",
    "    with open(file_path, \"r\", encoding=\"utf-8\") as file:\n",
    "        try:\n",
    "            data = json.load(file)\n",
    "            posts = []\n",
    "            users = []\n",
    "            for entry in data:  # Assuming JSON structure has 'value' as key\n",
    "                # Extract post data\n",
    "                post = {\n",
    "                    \"post_id\": entry.get(\"id\"),\n",
    "                    \"thread_id\": entry.get(\"mid\"),\n",
    "                    \"user_id\": entry.get(\"uid\"),\n",
    "                    \"text\": entry.get(\"text\"),\n",
    "                    \"reposts_count\": entry.get(\"reposts_count\"),\n",
    "                    \"likes_count\": entry.get(\"attitudes_count\"),\n",
    "                    \"comments_count\": entry.get(\"comments_count\"),\n",
    "                    \"parent_thread_id\": entry.get(\"parent\"),\n",
    "                    \"timestamp\": entry.get(\"t\")\n",
    "                }\n",
    "                posts.append(post)\n",
    "\n",
    "                # Extract user data\n",
    "                user = {\n",
    "                    \"user_id\": entry.get(\"uid\"),\n",
    "                    \"username\": entry.get(\"username\"),\n",
    "                    \"friends_count\": entry.get(\"friends_count\"),\n",
    "                    \"followers_count\": entry.get(\"followers_count\"),\n",
    "                    \"bi_followers_count\": entry.get(\"bi_followers_count\"),\n",
    "                    \"user_created_at\": entry.get(\"user_created_at\"),\n",
    "                    \"last_activity\": entry.get(\"t\")\n",
    "                }\n",
    "                users.append(user)\n",
    "            return posts, users\n",
    "        except json.JSONDecodeError:\n",
    "            print(f\"Error decoding JSON from file: {file_path}\")\n",
    "            return [], []\n",
    "\n",
    "# Process all JSON files in the directory\n",
    "def process_all_json_files(directory):\n",
    "    consolidated_posts = []\n",
    "    consolidated_users = []\n",
    "    for filename in os.listdir(directory):\n",
    "        if filename.endswith(\".json\"):\n",
    "\n",
    "            file_path = os.path.join(directory, filename)\n",
    "            posts, users = process_json_file(file_path)\n",
    "            # print(posts, users)\n",
    "            consolidated_posts.extend(posts)\n",
    "            consolidated_users.extend(users)\n",
    "    return consolidated_posts, consolidated_users\n",
    "\n",
    "# Process Labels\n",
    "def process_labels(file_path):\n",
    "    data = []\n",
    "    with open(file_path, \"r\", encoding=\"utf-8\", errors=\"ignore\") as file:\n",
    "        for line in file:\n",
    "            post_data = line.split(\"\\t\")\n",
    "            data.append({\n",
    "                \"post_id\": post_data[0].split(\":\")[-1],\n",
    "                \"label\": post_data[1].split(\":\")[-1],\n",
    "                \"children\": post_data[2].strip()\n",
    "            })\n",
    "    return pd.DataFrame(data)"
   ]
  },
  {
   "cell_type": "code",
   "execution_count": 8,
   "id": "33747df8a9b2b050",
   "metadata": {
    "ExecuteTime": {
     "end_time": "2024-11-13T20:00:53.262155Z",
     "start_time": "2024-11-13T20:00:10.955267Z"
    },
    "collapsed": false
   },
   "outputs": [
    {
     "ename": "FileNotFoundError",
     "evalue": "[Errno 2] No such file or directory: './dataset/rumdect/Weibo/'",
     "output_type": "error",
     "traceback": [
      "\u001b[0;31m---------------------------------------------------------------------------\u001b[0m",
      "\u001b[0;31mFileNotFoundError\u001b[0m                         Traceback (most recent call last)",
      "\u001b[1;32m/home/vnandak/CSI/src/CSI/csi-data-preprocessing.ipynb Cell 2\u001b[0m line \u001b[0;36m2\n\u001b[1;32m      <a href='vscode-notebook-cell://ondemand.orc.gmu.edu/home/vnandak/CSI/src/CSI/csi-data-preprocessing.ipynb#W1sdnNjb2RlLXJlbW90ZQ%3D%3D?line=0'>1</a>\u001b[0m \u001b[39m# Extract posts and users data into DataFrame\u001b[39;00m\n\u001b[0;32m----> <a href='vscode-notebook-cell://ondemand.orc.gmu.edu/home/vnandak/CSI/src/CSI/csi-data-preprocessing.ipynb#W1sdnNjb2RlLXJlbW90ZQ%3D%3D?line=1'>2</a>\u001b[0m all_posts, all_users \u001b[39m=\u001b[39m process_all_json_files(json_directory)\n\u001b[1;32m      <a href='vscode-notebook-cell://ondemand.orc.gmu.edu/home/vnandak/CSI/src/CSI/csi-data-preprocessing.ipynb#W1sdnNjb2RlLXJlbW90ZQ%3D%3D?line=2'>3</a>\u001b[0m posts_df, users_df \u001b[39m=\u001b[39m pd\u001b[39m.\u001b[39mDataFrame(all_posts), pd\u001b[39m.\u001b[39mDataFrame(all_users)\n",
      "\u001b[1;32m/home/vnandak/CSI/src/CSI/csi-data-preprocessing.ipynb Cell 2\u001b[0m line \u001b[0;36m5\n\u001b[1;32m     <a href='vscode-notebook-cell://ondemand.orc.gmu.edu/home/vnandak/CSI/src/CSI/csi-data-preprocessing.ipynb#W1sdnNjb2RlLXJlbW90ZQ%3D%3D?line=47'>48</a>\u001b[0m consolidated_posts \u001b[39m=\u001b[39m []\n\u001b[1;32m     <a href='vscode-notebook-cell://ondemand.orc.gmu.edu/home/vnandak/CSI/src/CSI/csi-data-preprocessing.ipynb#W1sdnNjb2RlLXJlbW90ZQ%3D%3D?line=48'>49</a>\u001b[0m consolidated_users \u001b[39m=\u001b[39m []\n\u001b[0;32m---> <a href='vscode-notebook-cell://ondemand.orc.gmu.edu/home/vnandak/CSI/src/CSI/csi-data-preprocessing.ipynb#W1sdnNjb2RlLXJlbW90ZQ%3D%3D?line=49'>50</a>\u001b[0m \u001b[39mfor\u001b[39;00m filename \u001b[39min\u001b[39;00m os\u001b[39m.\u001b[39;49mlistdir(directory):\n\u001b[1;32m     <a href='vscode-notebook-cell://ondemand.orc.gmu.edu/home/vnandak/CSI/src/CSI/csi-data-preprocessing.ipynb#W1sdnNjb2RlLXJlbW90ZQ%3D%3D?line=50'>51</a>\u001b[0m     \u001b[39mif\u001b[39;00m filename\u001b[39m.\u001b[39mendswith(\u001b[39m\"\u001b[39m\u001b[39m.json\u001b[39m\u001b[39m\"\u001b[39m):\n\u001b[1;32m     <a href='vscode-notebook-cell://ondemand.orc.gmu.edu/home/vnandak/CSI/src/CSI/csi-data-preprocessing.ipynb#W1sdnNjb2RlLXJlbW90ZQ%3D%3D?line=52'>53</a>\u001b[0m         file_path \u001b[39m=\u001b[39m os\u001b[39m.\u001b[39mpath\u001b[39m.\u001b[39mjoin(directory, filename)\n",
      "\u001b[0;31mFileNotFoundError\u001b[0m: [Errno 2] No such file or directory: './dataset/rumdect/Weibo/'"
     ]
    }
   ],
   "source": [
    "# Extract posts and users data into DataFrame\n",
    "all_posts, all_users = process_all_json_files(json_directory)\n",
    "posts_df, users_df = pd.DataFrame(all_posts), pd.DataFrame(all_users)"
   ]
  },
  {
   "cell_type": "code",
   "execution_count": 9,
   "id": "85d8d28f08ea2f6c",
   "metadata": {
    "ExecuteTime": {
     "end_time": "2024-11-13T20:01:33.353704Z",
     "start_time": "2024-11-13T20:00:53.263599Z"
    },
    "collapsed": false
   },
   "outputs": [],
   "source": [
    "users_df = users_df.loc[users_df.groupby(\"user_id\")[\"last_activity\"].idxmax()]"
   ]
  },
  {
   "cell_type": "code",
   "execution_count": 10,
   "id": "d15986b58e02b1e7",
   "metadata": {
    "ExecuteTime": {
     "end_time": "2024-11-13T20:01:35.318874Z",
     "start_time": "2024-11-13T20:01:33.355411Z"
    },
    "collapsed": false
   },
   "outputs": [],
   "source": [
    "post_label_df = process_labels(\"./dataset/rumdect/Weibo.txt\")\n",
    "posts_merged_df = pd.merge(post_label_df, posts_df, on=\"post_id\", how=\"inner\")"
   ]
  },
  {
   "cell_type": "code",
   "execution_count": 11,
   "id": "73939ba2d0e01c03",
   "metadata": {
    "ExecuteTime": {
     "end_time": "2024-11-13T20:01:45.905706Z",
     "start_time": "2024-11-13T20:01:35.319728Z"
    },
    "collapsed": false
   },
   "outputs": [],
   "source": [
    "posts_df.to_csv(\"./dataset/weibo_posts_df.csv\", index=False)\n",
    "users_df.to_csv(\"./dataset/weibo_users_df.csv\", index=False)\n",
    "posts_merged_df.to_csv(\"./dataset/weibo_posts_merged_df.csv\", index=False)"
   ]
  },
  {
   "cell_type": "code",
   "execution_count": 4,
   "id": "fb02dafa",
   "metadata": {},
   "outputs": [
    {
     "ename": "BadZipFile",
     "evalue": "File is not a zip file",
     "output_type": "error",
     "traceback": [
      "\u001b[0;31m---------------------------------------------------------------------------\u001b[0m",
      "\u001b[0;31mBadZipFile\u001b[0m                                Traceback (most recent call last)",
      "\u001b[1;32m/home/vnandak/CSI/src/CSI/csi-data-preprocessing.ipynb Cell 6\u001b[0m line \u001b[0;36m2\n\u001b[1;32m      <a href='vscode-notebook-cell://ondemand.orc.gmu.edu/home/vnandak/CSI/src/CSI/csi-data-preprocessing.ipynb#W5sdnNjb2RlLXJlbW90ZQ%3D%3D?line=0'>1</a>\u001b[0m \u001b[39mimport\u001b[39;00m \u001b[39mzipfile\u001b[39;00m\n\u001b[0;32m----> <a href='vscode-notebook-cell://ondemand.orc.gmu.edu/home/vnandak/CSI/src/CSI/csi-data-preprocessing.ipynb#W5sdnNjb2RlLXJlbW90ZQ%3D%3D?line=1'>2</a>\u001b[0m \u001b[39mwith\u001b[39;00m zipfile\u001b[39m.\u001b[39;49mZipFile(\u001b[39m'\u001b[39;49m\u001b[39m../../../CSI/dataset_zip/weibo_posts_df.csv\u001b[39;49m\u001b[39m'\u001b[39;49m, \u001b[39m'\u001b[39;49m\u001b[39mr\u001b[39;49m\u001b[39m'\u001b[39;49m) \u001b[39mas\u001b[39;00m zip_ref:\n\u001b[1;32m      <a href='vscode-notebook-cell://ondemand.orc.gmu.edu/home/vnandak/CSI/src/CSI/csi-data-preprocessing.ipynb#W5sdnNjb2RlLXJlbW90ZQ%3D%3D?line=2'>3</a>\u001b[0m     zip_ref\u001b[39m.\u001b[39mextractall(\u001b[39m'\u001b[39m\u001b[39m../../../CSI/dataset_zip/weibo_posts_df.csv\u001b[39m\u001b[39m'\u001b[39m)\n",
      "File \u001b[0;32m/opt/sw/spack/apps/linux-rhel8-x86_64_v3/gcc-9.3.0/python-3.8.6-4q/lib/python3.8/zipfile.py:1269\u001b[0m, in \u001b[0;36mZipFile.__init__\u001b[0;34m(self, file, mode, compression, allowZip64, compresslevel, strict_timestamps)\u001b[0m\n\u001b[1;32m   1267\u001b[0m \u001b[39mtry\u001b[39;00m:\n\u001b[1;32m   1268\u001b[0m     \u001b[39mif\u001b[39;00m mode \u001b[39m==\u001b[39m \u001b[39m'\u001b[39m\u001b[39mr\u001b[39m\u001b[39m'\u001b[39m:\n\u001b[0;32m-> 1269\u001b[0m         \u001b[39mself\u001b[39;49m\u001b[39m.\u001b[39;49m_RealGetContents()\n\u001b[1;32m   1270\u001b[0m     \u001b[39melif\u001b[39;00m mode \u001b[39min\u001b[39;00m (\u001b[39m'\u001b[39m\u001b[39mw\u001b[39m\u001b[39m'\u001b[39m, \u001b[39m'\u001b[39m\u001b[39mx\u001b[39m\u001b[39m'\u001b[39m):\n\u001b[1;32m   1271\u001b[0m         \u001b[39m# set the modified flag so central directory gets written\u001b[39;00m\n\u001b[1;32m   1272\u001b[0m         \u001b[39m# even if no files are added to the archive\u001b[39;00m\n\u001b[1;32m   1273\u001b[0m         \u001b[39mself\u001b[39m\u001b[39m.\u001b[39m_didModify \u001b[39m=\u001b[39m \u001b[39mTrue\u001b[39;00m\n",
      "File \u001b[0;32m/opt/sw/spack/apps/linux-rhel8-x86_64_v3/gcc-9.3.0/python-3.8.6-4q/lib/python3.8/zipfile.py:1336\u001b[0m, in \u001b[0;36mZipFile._RealGetContents\u001b[0;34m(self)\u001b[0m\n\u001b[1;32m   1334\u001b[0m     \u001b[39mraise\u001b[39;00m BadZipFile(\u001b[39m\"\u001b[39m\u001b[39mFile is not a zip file\u001b[39m\u001b[39m\"\u001b[39m)\n\u001b[1;32m   1335\u001b[0m \u001b[39mif\u001b[39;00m \u001b[39mnot\u001b[39;00m endrec:\n\u001b[0;32m-> 1336\u001b[0m     \u001b[39mraise\u001b[39;00m BadZipFile(\u001b[39m\"\u001b[39m\u001b[39mFile is not a zip file\u001b[39m\u001b[39m\"\u001b[39m)\n\u001b[1;32m   1337\u001b[0m \u001b[39mif\u001b[39;00m \u001b[39mself\u001b[39m\u001b[39m.\u001b[39mdebug \u001b[39m>\u001b[39m \u001b[39m1\u001b[39m:\n\u001b[1;32m   1338\u001b[0m     \u001b[39mprint\u001b[39m(endrec)\n",
      "\u001b[0;31mBadZipFile\u001b[0m: File is not a zip file"
     ]
    }
   ],
   "source": [
    "# import zipfile\n",
    "# with zipfile.ZipFile('../../../CSI/dataset_zip/weibo_posts_df.csv', 'r') as zip_ref:\n",
    "#     zip_ref.extractall('../../../CSI/dataset_zip/weibo_posts_df.csv')"
   ]
  },
  {
   "cell_type": "code",
   "execution_count": 6,
   "id": "ddd59151",
   "metadata": {},
   "outputs": [
    {
     "name": "stdout",
     "output_type": "stream",
     "text": [
      "            post_id         thread_id     user_id  \\\n",
      "0  3911595459895392  3911595459895392  1618051664   \n",
      "1  3911595615207253  3911595615207253  1854175743   \n",
      "2  3911595643853175  3911595643853175  1210750472   \n",
      "3  3911595681627173  3911595681627173  2212232771   \n",
      "4  3911595690022170  3911595690022170  1700764041   \n",
      "\n",
      "                                                text  reposts_count  \\\n",
      "0  【越野车司机道歉 将被罚200元扣3分】交警在与越野车车主电话联系后，昨天下午，驾驶员王某到...            915   \n",
      "1                                                低成本              0   \n",
      "2                                                NaN              0   \n",
      "3                                   太少了吧，人命关天啊，至少12分              0   \n",
      "4                                            你国法律真宽松              0   \n",
      "\n",
      "   likes_count  comments_count  parent_thread_id   timestamp  \n",
      "0          339            1841               NaN  1448080494  \n",
      "1            0               0      3.911595e+15  1448080531  \n",
      "2            0               0      3.911595e+15  1448080538  \n",
      "3            0               1      3.911595e+15  1448080547  \n",
      "4            0               0      3.911595e+15  1448080549  \n"
     ]
    }
   ],
   "source": [
    "import pandas as pd\n",
    "df = pd.read_csv('../../dataset_zip/weibo_posts_df.csv')\n",
    "print(df.head())"
   ]
  },
  {
   "cell_type": "code",
   "execution_count": null,
   "id": "732e88c7",
   "metadata": {},
   "outputs": [],
   "source": []
  }
 ],
 "metadata": {
  "kernelspec": {
   "display_name": "Python 3",
   "language": "python",
   "name": "python3"
  },
  "language_info": {
   "codemirror_mode": {
    "name": "ipython",
    "version": 3
   },
   "file_extension": ".py",
   "mimetype": "text/x-python",
   "name": "python",
   "nbconvert_exporter": "python",
   "pygments_lexer": "ipython3",
   "version": "3.8.6"
  }
 },
 "nbformat": 4,
 "nbformat_minor": 5
}
