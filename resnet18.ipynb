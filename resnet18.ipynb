{
 "cells": [
  {
   "cell_type": "code",
   "execution_count": 1,
   "metadata": {},
   "outputs": [],
   "source": [
    "import pandas as pd"
   ]
  },
  {
   "cell_type": "code",
   "execution_count": 2,
   "metadata": {},
   "outputs": [],
   "source": [
    "# posts_df\n",
    "# Data columns (total 9 columns):\n",
    "# #   Column            Dtype \n",
    "# ---  ------            -----\n",
    "# 0   post_id           object\n",
    "# 1   thread_id         object\n",
    "# 2   user_id           int64\n",
    "# 3   text              object\n",
    "# 4   reposts_count     int64\n",
    "# 5   likes_count       int64\n",
    "# 6   comments_count    int64\n",
    "# 7   parent_thread_id  object\n",
    "# 8   timestamp         int64\n",
    "\n",
    "\n",
    "# unique_users_df\n",
    "# Data columns (total 7 columns):\n",
    "# #   Column              Dtype \n",
    "# ---  ------              -----\n",
    "# 0   user_id             int64\n",
    "# 1   username            object\n",
    "# 2   friends_count       int64\n",
    "# 3   followers_count     int64\n",
    "# 4   bi_followers_count  int64\n",
    "# 5   user_created_at     int64\n",
    "# 6   last_activity       int64 \n",
    "users_df = pd.read_csv(\"../../dataset_zip/weibo_users_df.csv\")\n",
    "\n",
    "# labelled_posts_df\n",
    "# Data columns (total 11 columns):\n",
    "# #   Column            Non-Null Count  Dtype \n",
    "# ---  ------            --------------  -----\n",
    "# 0   post_id           4718 non-null   object\n",
    "# 1   label             4718 non-null   object\n",
    "# 2   children          4718 non-null   object\n",
    "# 3   thread_id         4718 non-null   object\n",
    "# 4   user_id           4718 non-null   int64\n",
    "# 5   text              4718 non-null   object\n",
    "# 6   reposts_count     4718 non-null   int64\n",
    "# 7   likes_count       4718 non-null   int64\n",
    "# 8   comments_count    4718 non-null   int64\n",
    "# 9   parent_thread_id  54 non-null     object\n",
    "# 10  timestamp         4718 non-null   int64 \n",
    "posts_df = pd.read_csv(\"../../dataset_zip/weibo_posts_merged_df.csv\")\n"
   ]
  },
  {
   "cell_type": "code",
   "execution_count": 3,
   "metadata": {},
   "outputs": [],
   "source": [
    "import re\n",
    "import jieba\n",
    "\n",
    "def clean_text(text):\n",
    "    # Remove non-Chinese characters (keep Chinese, numbers, and basic punctuation)\n",
    "    text = re.sub(r\"[^\\u4e00-\\u9fffA-Za-z0-9,，.!?！？]\", \"\", text)\n",
    "    # Normalize spaces\n",
    "    text = re.sub(r\"\\s+\", \" \", text).strip()\n",
    "    return text\n",
    "\n",
    "def segment_text(text):\n",
    "    # Segment text using jieba\n",
    "    words = jieba.lcut(text)\n",
    "    # Join words back with spaces (useful for embeddings)\n",
    "    return ' '.join(words)\n",
    "\n",
    "# Load a list of Chinese stop words\n",
    "with open('../../dataset_zip/cn_stopwords.txt', encoding='utf-8') as f:\n",
    "    stopwords = set(f.read().splitlines())\n",
    "\n",
    "def remove_stopwords(text):\n",
    "    words = text.split()\n",
    "    filtered_words = [word for word in words if word not in stopwords]\n",
    "    return ' '.join(filtered_words)"
   ]
  },
  {
   "cell_type": "code",
   "execution_count": 4,
   "metadata": {},
   "outputs": [
    {
     "name": "stderr",
     "output_type": "stream",
     "text": [
      "Building prefix dict from the default dictionary ...\n",
      "Loading model from cache /tmp/jieba.cache\n"
     ]
    },
    {
     "name": "stderr",
     "output_type": "stream",
     "text": [
      "Loading model cost 0.460 seconds.\n",
      "Prefix dict has been built successfully.\n"
     ]
    }
   ],
   "source": [
    "posts_df['cleaned_text'] = posts_df['text'].fillna(\"\").apply(clean_text)\n",
    "posts_df['segmented_text'] = posts_df['cleaned_text'].apply(segment_text)\n",
    "posts_df['final_text'] = posts_df['segmented_text'].apply(remove_stopwords)"
   ]
  },
  {
   "cell_type": "code",
   "execution_count": 5,
   "metadata": {},
   "outputs": [],
   "source": [
    "from gensim.models import Doc2Vec\n",
    "from gensim.models.doc2vec import TaggedDocument\n",
    "\n",
    "# Prepare tagged documents\n",
    "documents = [TaggedDocument(words=text.split(), tags=[i]) for i, text in enumerate(posts_df['final_text'])]\n",
    "# Train the Doc2Vec model\n",
    "model = Doc2Vec(documents, vector_size=100, window=5, min_count=2, workers=4)\n",
    "\n",
    "# Add embeddings to the DataFrame\n",
    "posts_df['text_embeddings'] = posts_df['final_text'].apply(lambda x: model.infer_vector(x.split()))\n"
   ]
  },
  {
   "cell_type": "code",
   "execution_count": 6,
   "metadata": {},
   "outputs": [],
   "source": [
    "from sklearn.preprocessing import MinMaxScaler\n",
    "import pandas as pd\n",
    "\n",
    "# Normalize engagement counts\n",
    "scaler = MinMaxScaler()\n",
    "posts_df[['reposts_count', 'likes_count', 'comments_count']] = scaler.fit_transform(\n",
    "    posts_df[['reposts_count', 'likes_count', 'comments_count']]\n",
    ")\n",
    "\n",
    "# Extract time features\n",
    "posts_df['hour'] = pd.to_datetime(posts_df['timestamp'], unit='s').dt.hour\n",
    "posts_df['day'] = pd.to_datetime(posts_df['timestamp'], unit='s').dt.day\n",
    "posts_df['month'] = pd.to_datetime(posts_df['timestamp'], unit='s').dt.month"
   ]
  },
  {
   "cell_type": "code",
   "execution_count": 7,
   "metadata": {},
   "outputs": [],
   "source": [
    "users_df[['friends_count', 'followers_count', 'bi_followers_count']] = scaler.fit_transform(\n",
    "    users_df[['friends_count', 'followers_count', 'bi_followers_count']]\n",
    ")\n"
   ]
  },
  {
   "cell_type": "code",
   "execution_count": 8,
   "metadata": {},
   "outputs": [],
   "source": [
    "merged_df = posts_df.merge(users_df, on='user_id', how='left')\n"
   ]
  },
  {
   "cell_type": "code",
   "execution_count": null,
   "metadata": {},
   "outputs": [
    {
     "name": "stderr",
     "output_type": "stream",
     "text": [
      "/home/vnandak/myenv/lib/python3.8/site-packages/torchvision/models/_utils.py:208: UserWarning: The parameter 'pretrained' is deprecated since 0.13 and may be removed in the future, please use 'weights' instead.\n",
      "  warnings.warn(\n",
      "/home/vnandak/myenv/lib/python3.8/site-packages/torchvision/models/_utils.py:223: UserWarning: Arguments other than a weight enum or `None` for 'weights' are deprecated since 0.13 and may be removed in the future. The current behavior is equivalent to passing `weights=ResNet18_Weights.IMAGENET1K_V1`. You can also use `weights=ResNet18_Weights.DEFAULT` to get the most up-to-date weights.\n",
      "  warnings.warn(msg)\n"
     ]
    },
    {
     "name": "stdout",
     "output_type": "stream",
     "text": [
      "Applying PCA on Text Embeddings...\n",
      "cuda\n",
      "\n",
      "Fold 1/5\n"
     ]
    },
    {
     "name": "stderr",
     "output_type": "stream",
     "text": [
      "Training Progress:   0%|          | 0/120 [00:00<?, ?epoch/s]"
     ]
    },
    {
     "name": "stderr",
     "output_type": "stream",
     "text": [
      "Training Progress:  77%|███████▋  | 92/120 [08:26<02:34,  5.50s/epoch]\n"
     ]
    },
    {
     "ename": "KeyboardInterrupt",
     "evalue": "",
     "output_type": "error",
     "traceback": [
      "\u001b[0;31m---------------------------------------------------------------------------\u001b[0m",
      "\u001b[0;31mKeyboardInterrupt\u001b[0m                         Traceback (most recent call last)",
      "\u001b[1;32m/home/vnandak/CSI/src/CSI/resnet18.ipynb Cell 9\u001b[0m line \u001b[0;36m1\n\u001b[1;32m    <a href='vscode-notebook-cell://ondemand.orc.gmu.edu/home/vnandak/CSI/src/CSI/resnet18.ipynb#X11sdnNjb2RlLXJlbW90ZQ%3D%3D?line=138'>139</a>\u001b[0m     loss\u001b[39m.\u001b[39mbackward()\n\u001b[1;32m    <a href='vscode-notebook-cell://ondemand.orc.gmu.edu/home/vnandak/CSI/src/CSI/resnet18.ipynb#X11sdnNjb2RlLXJlbW90ZQ%3D%3D?line=139'>140</a>\u001b[0m     optimizer\u001b[39m.\u001b[39mstep()\n\u001b[0;32m--> <a href='vscode-notebook-cell://ondemand.orc.gmu.edu/home/vnandak/CSI/src/CSI/resnet18.ipynb#X11sdnNjb2RlLXJlbW90ZQ%3D%3D?line=141'>142</a>\u001b[0m     total_train_loss \u001b[39m+\u001b[39m\u001b[39m=\u001b[39m loss\u001b[39m.\u001b[39;49mitem()\n\u001b[1;32m    <a href='vscode-notebook-cell://ondemand.orc.gmu.edu/home/vnandak/CSI/src/CSI/resnet18.ipynb#X11sdnNjb2RlLXJlbW90ZQ%3D%3D?line=143'>144</a>\u001b[0m avg_train_loss \u001b[39m=\u001b[39m total_train_loss \u001b[39m/\u001b[39m \u001b[39mlen\u001b[39m(train_loader)\n\u001b[1;32m    <a href='vscode-notebook-cell://ondemand.orc.gmu.edu/home/vnandak/CSI/src/CSI/resnet18.ipynb#X11sdnNjb2RlLXJlbW90ZQ%3D%3D?line=144'>145</a>\u001b[0m training_losses\u001b[39m.\u001b[39mappend(avg_train_loss)\n",
      "\u001b[0;31mKeyboardInterrupt\u001b[0m: "
     ]
    }
   ],
   "source": [
    "from sklearn.decomposition import PCA\n",
    "from sklearn.model_selection import KFold\n",
    "from sklearn.metrics import accuracy_score, precision_score, recall_score, f1_score, roc_auc_score\n",
    "import numpy as np\n",
    "import torch\n",
    "from torch.utils.data import Dataset, DataLoader\n",
    "import torch.nn as nn\n",
    "import torch.optim as optim\n",
    "from tqdm import tqdm\n",
    "from resnet18Model import CSIModelWithResNet\n",
    "import matplotlib.pyplot as plt\n",
    "\n",
    "# Prepare data\n",
    "X_text = np.stack(merged_df['text_embeddings'].values)\n",
    "X_user = merged_df[['friends_count', 'followers_count', 'bi_followers_count']].values\n",
    "y = (merged_df['label']).astype(int).values  # Convert labels to binary\n",
    "\n",
    "# Apply PCA to reduce dimensions of text embeddings\n",
    "print(\"Applying PCA on Text Embeddings...\")\n",
    "pca = PCA(n_components=10)  # Choose the number of components\n",
    "X_text_pca = pca.fit_transform(X_text)\n",
    "\n",
    "# Custom Dataset class\n",
    "class CSIDataset(Dataset):\n",
    "    def __init__(self, text_data, user_data, labels):\n",
    "        self.text_data = text_data\n",
    "        self.user_data = user_data\n",
    "        self.labels = labels\n",
    "\n",
    "    def __len__(self):\n",
    "        return len(self.labels)\n",
    "\n",
    "    def __getitem__(self, idx):\n",
    "        text = torch.tensor(self.text_data[idx], dtype=torch.float32)\n",
    "        user = torch.tensor(self.user_data[idx], dtype=torch.float32)\n",
    "        label = torch.tensor(self.labels[idx], dtype=torch.float32)\n",
    "        return text, user, label\n",
    "\n",
    "class CombinedBCELossWithFocalLoss(nn.Module):\n",
    "    def __init__(self, alpha=1, gamma=2, focal_weight=0.5):\n",
    "        \"\"\"\n",
    "        Combined Binary Cross-Entropy Loss and Focal Loss\n",
    "        :param alpha: Weighting factor for focal loss (default 1)\n",
    "        :param gamma: Focusing parameter for focal loss (default 2)\n",
    "        :param focal_weight: The weight of focal loss in the combination\n",
    "        \"\"\"\n",
    "        super(CombinedBCELossWithFocalLoss, self).__init__()\n",
    "        self.bce = nn.BCELoss()  # Binary Cross-Entropy Loss\n",
    "        self.alpha = alpha\n",
    "        self.gamma = gamma\n",
    "        self.focal_weight = focal_weight\n",
    "\n",
    "    def forward(self, inputs, targets):\n",
    "        # BCE Loss\n",
    "        bce_loss = self.bce(inputs, targets)\n",
    "\n",
    "        # Focal Loss\n",
    "        pt = torch.sigmoid(inputs)  # Probabilities for Focal Loss\n",
    "        pt = torch.clamp(pt, 1e-7, 1 - 1e-7)  # Avoid log(0) instability\n",
    "        focal_loss = self.alpha * (1 - pt) ** self.gamma * targets * torch.log(pt) + \\\n",
    "                     (1 - self.alpha) * pt ** self.gamma * (1 - targets) * torch.log(1 - pt)\n",
    "        focal_loss = -focal_loss.mean()\n",
    "\n",
    "        # Combine the two losses\n",
    "        combined_loss = (1 - self.focal_weight) * bce_loss + self.focal_weight * focal_loss\n",
    "        return combined_loss\n",
    "\n",
    "# Device Configuration\n",
    "device = torch.device(\"cuda\" if torch.cuda.is_available() else \"cpu\")\n",
    "print(device)\n",
    "\n",
    "# Hyperparameters\n",
    "text_embedding_dim = X_text_pca.shape[1]  # Updated to the PCA output dimensions\n",
    "user_feature_dim = X_user.shape[1]\n",
    "lstm_hidden_dim = 32\n",
    "fc_hidden_dim = 16\n",
    "learning_rate = 0.001 #0.001\n",
    "num_epochs = 120\n",
    "k_folds = 5\n",
    "batch_size = 32\n",
    "\n",
    "# K-Fold Cross-Validation\n",
    "kf = KFold(n_splits=k_folds, shuffle=True, random_state=32)\n",
    "\n",
    "# Loss function\n",
    "criterion = CombinedBCELossWithFocalLoss(alpha=0.8, gamma=2, focal_weight=0.5)\n",
    "\n",
    "# Store fold results\n",
    "fold_results = []\n",
    "fold_metrics = []\n",
    "for fold, (train_idx, val_idx) in enumerate(kf.split(X_text_pca)):\n",
    "    print(f\"\\nFold {fold + 1}/{k_folds}\")\n",
    "\n",
    "    # Split data into training and validation sets\n",
    "    train_text = X_text_pca[train_idx]\n",
    "    train_user = X_user[train_idx]\n",
    "    train_labels = y[train_idx]\n",
    "\n",
    "    val_text = X_text_pca[val_idx]\n",
    "    val_user = X_user[val_idx]\n",
    "    val_labels = y[val_idx]\n",
    "\n",
    "    # Create DataLoaders for training and validation sets\n",
    "    train_dataset = CSIDataset(train_text, train_user, train_labels)\n",
    "    val_dataset = CSIDataset(val_text, val_user, val_labels)\n",
    "\n",
    "    train_loader = DataLoader(train_dataset, batch_size=batch_size, shuffle=True)\n",
    "    val_loader = DataLoader(val_dataset, batch_size=batch_size, shuffle=False)\n",
    "\n",
    "    # Initialize the model\n",
    "    model = CSIModelWithResNet(text_embedding_dim, user_feature_dim, lstm_hidden_dim, fc_hidden_dim)\n",
    "    model.to(device)\n",
    "\n",
    "    # Optimizer\n",
    "    optimizer = optim.AdamW(model.parameters(), lr=learning_rate, weight_decay=1e-5)\n",
    "\n",
    "    # Learning Rate Scheduler\n",
    "    scheduler = torch.optim.lr_scheduler.StepLR(optimizer, step_size=10, gamma=0.5)\n",
    "\n",
    "\n",
    "    # Training and Validation\n",
    "    training_losses = []\n",
    "    validation_losses = []\n",
    "    for epoch in tqdm(range(1, num_epochs + 1), desc=\"Training Progress\", unit=\"epoch\"):\n",
    "        model.train()\n",
    "        total_train_loss = 0\n",
    "\n",
    "        for text_batch, user_batch, labels_batch in train_loader:\n",
    "            text_batch = text_batch.unsqueeze(1)\n",
    "            text_batch, user_batch, labels_batch = (\n",
    "                text_batch.to(device),\n",
    "                user_batch.to(device),\n",
    "                labels_batch.to(device),\n",
    "            )\n",
    "\n",
    "            optimizer.zero_grad()\n",
    "            outputs = model(text_batch, user_batch).squeeze()\n",
    "            loss = criterion(outputs, labels_batch)\n",
    "            loss.backward()\n",
    "            optimizer.step()\n",
    "\n",
    "            total_train_loss += loss.item()\n",
    "\n",
    "        avg_train_loss = total_train_loss / len(train_loader)\n",
    "        training_losses.append(avg_train_loss)\n",
    "        # print(\"Text Batch Shape:\", text_batch.shape)  # Should be 3D (batch_size, seq_len, input_size)\n",
    "        # print(\"User Features Shape:\", user_batch.shape)  \n",
    "        # print(\"Text Embeddings Shape:\", text_embeddings.shape)  # Should be 3D (batch_size, seq_len, input_size)\n",
    "        # print(\"User Features Shape (Before ResNet):\", user_features.shape) \n",
    "           \n",
    "        # Validation\n",
    "        model.eval()\n",
    "        total_val_loss = 0\n",
    "        val_labels_list = []\n",
    "        val_preds_list = []\n",
    "        with torch.no_grad():\n",
    "            for text_batch, user_batch, labels_batch in val_loader:\n",
    "                text_batch = text_batch.unsqueeze(1)\n",
    "                text_batch, user_batch, labels_batch = (\n",
    "                    text_batch.to(device),\n",
    "                    user_batch.to(device),\n",
    "                    labels_batch.to(device),\n",
    "                )\n",
    "                outputs = model(text_batch, user_batch).squeeze()\n",
    "                loss = criterion(outputs, labels_batch)\n",
    "                total_val_loss += loss.item()\n",
    "\n",
    "                # Collect predictions and labels for metrics\n",
    "                val_labels_list.extend(labels_batch.cpu().numpy())\n",
    "                val_preds_list.extend((outputs > 0.5).cpu().numpy())\n",
    "\n",
    "        avg_val_loss = total_val_loss / len(val_loader)\n",
    "        validation_losses.append(avg_val_loss)\n",
    "\n",
    "        # Update Scheduler \n",
    "        scheduler.step()\n",
    "\n",
    "        # Print every 10 epochs\n",
    "        if epoch % 100 == 0:\n",
    "            print(f\"Epoch {epoch}/{num_epochs} - Train Loss: {avg_train_loss:.4f}, Val Loss: {avg_val_loss:.4f}\")\n",
    "\n",
    "    # Calculate metrics for the fold\n",
    "    accuracy = accuracy_score(val_labels_list, val_preds_list)\n",
    "    precision = precision_score(val_labels_list, val_preds_list)\n",
    "    recall = recall_score(val_labels_list, val_preds_list)\n",
    "    f1 = f1_score(val_labels_list, val_preds_list)\n",
    "    roc_auc = roc_auc_score(val_labels_list, val_preds_list)\n",
    "    print(f\"Fold {fold + 1} Metrics - Accuracy: {accuracy:.4f}, Precision: {precision:.4f}, Recall: {recall:.4f}, F1: {f1:.4f}, ROC AUC: {roc_auc:.4f}\")\n",
    "\n",
    "    # Store fold metrics\n",
    "    fold_metrics.append({\n",
    "        \"fold\": fold + 1,\n",
    "        \"accuracy\": accuracy,\n",
    "        \"precision\": precision,\n",
    "        \"recall\": recall,\n",
    "        \"f1\": f1,\n",
    "        \"roc_auc\": roc_auc,\n",
    "    })\n",
    "\n",
    "# Average results across folds\n",
    "average_metrics = {\n",
    "    key: np.mean([fold[key] for fold in fold_metrics])\n",
    "    for key in fold_metrics[0] if key != \"fold\"\n",
    "}\n",
    "print(\"\\nAverage Metrics Across All Folds\")\n",
    "for metric, value in average_metrics.items():\n",
    "    print(f\"{metric.capitalize()}: {value:.4f}\")"
   ]
  },
  {
   "cell_type": "code",
   "execution_count": 10,
   "metadata": {},
   "outputs": [
    {
     "name": "stdout",
     "output_type": "stream",
     "text": [
      "cuda\n",
      "\n",
      "Evaluating PCA with 2 components...\n",
      "\n",
      "Fold 1/5\n"
     ]
    },
    {
     "name": "stderr",
     "output_type": "stream",
     "text": [
      "/home/vnandak/myenv/lib/python3.8/site-packages/torchvision/models/_utils.py:208: UserWarning: The parameter 'pretrained' is deprecated since 0.13 and may be removed in the future, please use 'weights' instead.\n",
      "  warnings.warn(\n",
      "/home/vnandak/myenv/lib/python3.8/site-packages/torchvision/models/_utils.py:223: UserWarning: Arguments other than a weight enum or `None` for 'weights' are deprecated since 0.13 and may be removed in the future. The current behavior is equivalent to passing `weights=ResNet18_Weights.IMAGENET1K_V1`. You can also use `weights=ResNet18_Weights.DEFAULT` to get the most up-to-date weights.\n",
      "  warnings.warn(msg)\n",
      "Training Progress for PCA 2: 100%|██████████| 120/120 [09:59<00:00,  4.99s/epoch]\n",
      "/home/vnandak/myenv/lib/python3.8/site-packages/torchvision/models/_utils.py:208: UserWarning: The parameter 'pretrained' is deprecated since 0.13 and may be removed in the future, please use 'weights' instead.\n",
      "  warnings.warn(\n",
      "/home/vnandak/myenv/lib/python3.8/site-packages/torchvision/models/_utils.py:223: UserWarning: Arguments other than a weight enum or `None` for 'weights' are deprecated since 0.13 and may be removed in the future. The current behavior is equivalent to passing `weights=ResNet18_Weights.IMAGENET1K_V1`. You can also use `weights=ResNet18_Weights.DEFAULT` to get the most up-to-date weights.\n",
      "  warnings.warn(msg)\n"
     ]
    },
    {
     "name": "stdout",
     "output_type": "stream",
     "text": [
      "\n",
      "Fold 2/5\n"
     ]
    },
    {
     "name": "stderr",
     "output_type": "stream",
     "text": [
      "Training Progress for PCA 2: 100%|██████████| 120/120 [10:00<00:00,  5.00s/epoch]\n",
      "/home/vnandak/myenv/lib/python3.8/site-packages/torchvision/models/_utils.py:208: UserWarning: The parameter 'pretrained' is deprecated since 0.13 and may be removed in the future, please use 'weights' instead.\n",
      "  warnings.warn(\n",
      "/home/vnandak/myenv/lib/python3.8/site-packages/torchvision/models/_utils.py:223: UserWarning: Arguments other than a weight enum or `None` for 'weights' are deprecated since 0.13 and may be removed in the future. The current behavior is equivalent to passing `weights=ResNet18_Weights.IMAGENET1K_V1`. You can also use `weights=ResNet18_Weights.DEFAULT` to get the most up-to-date weights.\n",
      "  warnings.warn(msg)\n"
     ]
    },
    {
     "name": "stdout",
     "output_type": "stream",
     "text": [
      "\n",
      "Fold 3/5\n"
     ]
    },
    {
     "name": "stderr",
     "output_type": "stream",
     "text": [
      "Training Progress for PCA 2: 100%|██████████| 120/120 [09:59<00:00,  5.00s/epoch]\n",
      "/home/vnandak/myenv/lib/python3.8/site-packages/torchvision/models/_utils.py:208: UserWarning: The parameter 'pretrained' is deprecated since 0.13 and may be removed in the future, please use 'weights' instead.\n",
      "  warnings.warn(\n",
      "/home/vnandak/myenv/lib/python3.8/site-packages/torchvision/models/_utils.py:223: UserWarning: Arguments other than a weight enum or `None` for 'weights' are deprecated since 0.13 and may be removed in the future. The current behavior is equivalent to passing `weights=ResNet18_Weights.IMAGENET1K_V1`. You can also use `weights=ResNet18_Weights.DEFAULT` to get the most up-to-date weights.\n",
      "  warnings.warn(msg)\n"
     ]
    },
    {
     "name": "stdout",
     "output_type": "stream",
     "text": [
      "\n",
      "Fold 4/5\n"
     ]
    },
    {
     "name": "stderr",
     "output_type": "stream",
     "text": [
      "Training Progress for PCA 2: 100%|██████████| 120/120 [10:01<00:00,  5.02s/epoch]\n",
      "/home/vnandak/myenv/lib/python3.8/site-packages/torchvision/models/_utils.py:208: UserWarning: The parameter 'pretrained' is deprecated since 0.13 and may be removed in the future, please use 'weights' instead.\n",
      "  warnings.warn(\n",
      "/home/vnandak/myenv/lib/python3.8/site-packages/torchvision/models/_utils.py:223: UserWarning: Arguments other than a weight enum or `None` for 'weights' are deprecated since 0.13 and may be removed in the future. The current behavior is equivalent to passing `weights=ResNet18_Weights.IMAGENET1K_V1`. You can also use `weights=ResNet18_Weights.DEFAULT` to get the most up-to-date weights.\n",
      "  warnings.warn(msg)\n"
     ]
    },
    {
     "name": "stdout",
     "output_type": "stream",
     "text": [
      "\n",
      "Fold 5/5\n"
     ]
    },
    {
     "name": "stderr",
     "output_type": "stream",
     "text": [
      "Training Progress for PCA 2: 100%|██████████| 120/120 [09:59<00:00,  5.00s/epoch]\n"
     ]
    },
    {
     "name": "stdout",
     "output_type": "stream",
     "text": [
      "\n",
      "Average Metrics for PCA 2: {'accuracy': 0.8929597210489423, 'precision': 0.8919446609996646, 'recall': 0.8888036256713228, 'f1': 0.8898159786750067, 'roc_auc': 0.8928619189675586}\n",
      "\n",
      "Evaluating PCA with 3 components...\n",
      "\n",
      "Fold 1/5\n"
     ]
    },
    {
     "name": "stderr",
     "output_type": "stream",
     "text": [
      "/home/vnandak/myenv/lib/python3.8/site-packages/torchvision/models/_utils.py:208: UserWarning: The parameter 'pretrained' is deprecated since 0.13 and may be removed in the future, please use 'weights' instead.\n",
      "  warnings.warn(\n",
      "/home/vnandak/myenv/lib/python3.8/site-packages/torchvision/models/_utils.py:223: UserWarning: Arguments other than a weight enum or `None` for 'weights' are deprecated since 0.13 and may be removed in the future. The current behavior is equivalent to passing `weights=ResNet18_Weights.IMAGENET1K_V1`. You can also use `weights=ResNet18_Weights.DEFAULT` to get the most up-to-date weights.\n",
      "  warnings.warn(msg)\n",
      "Training Progress for PCA 3: 100%|██████████| 120/120 [09:59<00:00,  5.00s/epoch]\n",
      "/home/vnandak/myenv/lib/python3.8/site-packages/torchvision/models/_utils.py:208: UserWarning: The parameter 'pretrained' is deprecated since 0.13 and may be removed in the future, please use 'weights' instead.\n",
      "  warnings.warn(\n",
      "/home/vnandak/myenv/lib/python3.8/site-packages/torchvision/models/_utils.py:223: UserWarning: Arguments other than a weight enum or `None` for 'weights' are deprecated since 0.13 and may be removed in the future. The current behavior is equivalent to passing `weights=ResNet18_Weights.IMAGENET1K_V1`. You can also use `weights=ResNet18_Weights.DEFAULT` to get the most up-to-date weights.\n",
      "  warnings.warn(msg)\n"
     ]
    },
    {
     "name": "stdout",
     "output_type": "stream",
     "text": [
      "\n",
      "Fold 2/5\n"
     ]
    },
    {
     "name": "stderr",
     "output_type": "stream",
     "text": [
      "Training Progress for PCA 3: 100%|██████████| 120/120 [10:00<00:00,  5.00s/epoch]\n"
     ]
    },
    {
     "name": "stdout",
     "output_type": "stream",
     "text": [
      "\n",
      "Fold 3/5\n"
     ]
    },
    {
     "name": "stderr",
     "output_type": "stream",
     "text": [
      "/home/vnandak/myenv/lib/python3.8/site-packages/torchvision/models/_utils.py:208: UserWarning: The parameter 'pretrained' is deprecated since 0.13 and may be removed in the future, please use 'weights' instead.\n",
      "  warnings.warn(\n",
      "/home/vnandak/myenv/lib/python3.8/site-packages/torchvision/models/_utils.py:223: UserWarning: Arguments other than a weight enum or `None` for 'weights' are deprecated since 0.13 and may be removed in the future. The current behavior is equivalent to passing `weights=ResNet18_Weights.IMAGENET1K_V1`. You can also use `weights=ResNet18_Weights.DEFAULT` to get the most up-to-date weights.\n",
      "  warnings.warn(msg)\n",
      "Training Progress for PCA 3: 100%|██████████| 120/120 [09:59<00:00,  5.00s/epoch]\n"
     ]
    },
    {
     "name": "stdout",
     "output_type": "stream",
     "text": [
      "\n",
      "Fold 4/5\n"
     ]
    },
    {
     "name": "stderr",
     "output_type": "stream",
     "text": [
      "/home/vnandak/myenv/lib/python3.8/site-packages/torchvision/models/_utils.py:208: UserWarning: The parameter 'pretrained' is deprecated since 0.13 and may be removed in the future, please use 'weights' instead.\n",
      "  warnings.warn(\n",
      "/home/vnandak/myenv/lib/python3.8/site-packages/torchvision/models/_utils.py:223: UserWarning: Arguments other than a weight enum or `None` for 'weights' are deprecated since 0.13 and may be removed in the future. The current behavior is equivalent to passing `weights=ResNet18_Weights.IMAGENET1K_V1`. You can also use `weights=ResNet18_Weights.DEFAULT` to get the most up-to-date weights.\n",
      "  warnings.warn(msg)\n",
      "Training Progress for PCA 3: 100%|██████████| 120/120 [09:59<00:00,  5.00s/epoch]\n",
      "/home/vnandak/myenv/lib/python3.8/site-packages/torchvision/models/_utils.py:208: UserWarning: The parameter 'pretrained' is deprecated since 0.13 and may be removed in the future, please use 'weights' instead.\n",
      "  warnings.warn(\n",
      "/home/vnandak/myenv/lib/python3.8/site-packages/torchvision/models/_utils.py:223: UserWarning: Arguments other than a weight enum or `None` for 'weights' are deprecated since 0.13 and may be removed in the future. The current behavior is equivalent to passing `weights=ResNet18_Weights.IMAGENET1K_V1`. You can also use `weights=ResNet18_Weights.DEFAULT` to get the most up-to-date weights.\n",
      "  warnings.warn(msg)\n"
     ]
    },
    {
     "name": "stdout",
     "output_type": "stream",
     "text": [
      "\n",
      "Fold 5/5\n"
     ]
    },
    {
     "name": "stderr",
     "output_type": "stream",
     "text": [
      "Training Progress for PCA 3: 100%|██████████| 120/120 [09:59<00:00,  5.00s/epoch]\n"
     ]
    },
    {
     "name": "stdout",
     "output_type": "stream",
     "text": [
      "\n",
      "Average Metrics for PCA 3: {'accuracy': 0.9050422830131029, 'precision': 0.8894371041227809, 'recall': 0.9209640674611753, 'f1': 0.9046640772804446, 'roc_auc': 0.9054241061495825}\n",
      "\n",
      "Evaluating PCA with 4 components...\n",
      "\n",
      "Fold 1/5\n"
     ]
    },
    {
     "name": "stderr",
     "output_type": "stream",
     "text": [
      "/home/vnandak/myenv/lib/python3.8/site-packages/torchvision/models/_utils.py:208: UserWarning: The parameter 'pretrained' is deprecated since 0.13 and may be removed in the future, please use 'weights' instead.\n",
      "  warnings.warn(\n",
      "/home/vnandak/myenv/lib/python3.8/site-packages/torchvision/models/_utils.py:223: UserWarning: Arguments other than a weight enum or `None` for 'weights' are deprecated since 0.13 and may be removed in the future. The current behavior is equivalent to passing `weights=ResNet18_Weights.IMAGENET1K_V1`. You can also use `weights=ResNet18_Weights.DEFAULT` to get the most up-to-date weights.\n",
      "  warnings.warn(msg)\n",
      "Training Progress for PCA 4: 100%|██████████| 120/120 [09:59<00:00,  5.00s/epoch]\n",
      "/home/vnandak/myenv/lib/python3.8/site-packages/torchvision/models/_utils.py:208: UserWarning: The parameter 'pretrained' is deprecated since 0.13 and may be removed in the future, please use 'weights' instead.\n",
      "  warnings.warn(\n",
      "/home/vnandak/myenv/lib/python3.8/site-packages/torchvision/models/_utils.py:223: UserWarning: Arguments other than a weight enum or `None` for 'weights' are deprecated since 0.13 and may be removed in the future. The current behavior is equivalent to passing `weights=ResNet18_Weights.IMAGENET1K_V1`. You can also use `weights=ResNet18_Weights.DEFAULT` to get the most up-to-date weights.\n",
      "  warnings.warn(msg)\n"
     ]
    },
    {
     "name": "stdout",
     "output_type": "stream",
     "text": [
      "\n",
      "Fold 2/5\n"
     ]
    },
    {
     "name": "stderr",
     "output_type": "stream",
     "text": [
      "Training Progress for PCA 4: 100%|██████████| 120/120 [09:59<00:00,  4.99s/epoch]\n",
      "/home/vnandak/myenv/lib/python3.8/site-packages/torchvision/models/_utils.py:208: UserWarning: The parameter 'pretrained' is deprecated since 0.13 and may be removed in the future, please use 'weights' instead.\n",
      "  warnings.warn(\n",
      "/home/vnandak/myenv/lib/python3.8/site-packages/torchvision/models/_utils.py:223: UserWarning: Arguments other than a weight enum or `None` for 'weights' are deprecated since 0.13 and may be removed in the future. The current behavior is equivalent to passing `weights=ResNet18_Weights.IMAGENET1K_V1`. You can also use `weights=ResNet18_Weights.DEFAULT` to get the most up-to-date weights.\n",
      "  warnings.warn(msg)\n"
     ]
    },
    {
     "name": "stdout",
     "output_type": "stream",
     "text": [
      "\n",
      "Fold 3/5\n"
     ]
    },
    {
     "name": "stderr",
     "output_type": "stream",
     "text": [
      "Training Progress for PCA 4: 100%|██████████| 120/120 [09:59<00:00,  4.99s/epoch]\n",
      "/home/vnandak/myenv/lib/python3.8/site-packages/torchvision/models/_utils.py:208: UserWarning: The parameter 'pretrained' is deprecated since 0.13 and may be removed in the future, please use 'weights' instead.\n",
      "  warnings.warn(\n",
      "/home/vnandak/myenv/lib/python3.8/site-packages/torchvision/models/_utils.py:223: UserWarning: Arguments other than a weight enum or `None` for 'weights' are deprecated since 0.13 and may be removed in the future. The current behavior is equivalent to passing `weights=ResNet18_Weights.IMAGENET1K_V1`. You can also use `weights=ResNet18_Weights.DEFAULT` to get the most up-to-date weights.\n",
      "  warnings.warn(msg)\n"
     ]
    },
    {
     "name": "stdout",
     "output_type": "stream",
     "text": [
      "\n",
      "Fold 4/5\n"
     ]
    },
    {
     "name": "stderr",
     "output_type": "stream",
     "text": [
      "Training Progress for PCA 4: 100%|██████████| 120/120 [09:59<00:00,  5.00s/epoch]\n",
      "/home/vnandak/myenv/lib/python3.8/site-packages/torchvision/models/_utils.py:208: UserWarning: The parameter 'pretrained' is deprecated since 0.13 and may be removed in the future, please use 'weights' instead.\n",
      "  warnings.warn(\n",
      "/home/vnandak/myenv/lib/python3.8/site-packages/torchvision/models/_utils.py:223: UserWarning: Arguments other than a weight enum or `None` for 'weights' are deprecated since 0.13 and may be removed in the future. The current behavior is equivalent to passing `weights=ResNet18_Weights.IMAGENET1K_V1`. You can also use `weights=ResNet18_Weights.DEFAULT` to get the most up-to-date weights.\n",
      "  warnings.warn(msg)\n"
     ]
    },
    {
     "name": "stdout",
     "output_type": "stream",
     "text": [
      "\n",
      "Fold 5/5\n"
     ]
    },
    {
     "name": "stderr",
     "output_type": "stream",
     "text": [
      "Training Progress for PCA 4: 100%|██████████| 120/120 [10:00<00:00,  5.00s/epoch]\n"
     ]
    },
    {
     "name": "stdout",
     "output_type": "stream",
     "text": [
      "\n",
      "Average Metrics for PCA 4: {'accuracy': 0.9118253140895447, 'precision': 0.8874360343081544, 'recall': 0.9386375815984052, 'f1': 0.9122219390508466, 'roc_auc': 0.9121159332317926}\n",
      "\n",
      "Evaluating PCA with 5 components...\n",
      "\n",
      "Fold 1/5\n"
     ]
    },
    {
     "name": "stderr",
     "output_type": "stream",
     "text": [
      "/home/vnandak/myenv/lib/python3.8/site-packages/torchvision/models/_utils.py:208: UserWarning: The parameter 'pretrained' is deprecated since 0.13 and may be removed in the future, please use 'weights' instead.\n",
      "  warnings.warn(\n",
      "/home/vnandak/myenv/lib/python3.8/site-packages/torchvision/models/_utils.py:223: UserWarning: Arguments other than a weight enum or `None` for 'weights' are deprecated since 0.13 and may be removed in the future. The current behavior is equivalent to passing `weights=ResNet18_Weights.IMAGENET1K_V1`. You can also use `weights=ResNet18_Weights.DEFAULT` to get the most up-to-date weights.\n",
      "  warnings.warn(msg)\n",
      "Training Progress for PCA 5: 100%|██████████| 120/120 [09:59<00:00,  4.99s/epoch]\n",
      "/home/vnandak/myenv/lib/python3.8/site-packages/torchvision/models/_utils.py:208: UserWarning: The parameter 'pretrained' is deprecated since 0.13 and may be removed in the future, please use 'weights' instead.\n",
      "  warnings.warn(\n",
      "/home/vnandak/myenv/lib/python3.8/site-packages/torchvision/models/_utils.py:223: UserWarning: Arguments other than a weight enum or `None` for 'weights' are deprecated since 0.13 and may be removed in the future. The current behavior is equivalent to passing `weights=ResNet18_Weights.IMAGENET1K_V1`. You can also use `weights=ResNet18_Weights.DEFAULT` to get the most up-to-date weights.\n",
      "  warnings.warn(msg)\n"
     ]
    },
    {
     "name": "stdout",
     "output_type": "stream",
     "text": [
      "\n",
      "Fold 2/5\n"
     ]
    },
    {
     "name": "stderr",
     "output_type": "stream",
     "text": [
      "Training Progress for PCA 5: 100%|██████████| 120/120 [09:59<00:00,  5.00s/epoch]\n",
      "/home/vnandak/myenv/lib/python3.8/site-packages/torchvision/models/_utils.py:208: UserWarning: The parameter 'pretrained' is deprecated since 0.13 and may be removed in the future, please use 'weights' instead.\n",
      "  warnings.warn(\n",
      "/home/vnandak/myenv/lib/python3.8/site-packages/torchvision/models/_utils.py:223: UserWarning: Arguments other than a weight enum or `None` for 'weights' are deprecated since 0.13 and may be removed in the future. The current behavior is equivalent to passing `weights=ResNet18_Weights.IMAGENET1K_V1`. You can also use `weights=ResNet18_Weights.DEFAULT` to get the most up-to-date weights.\n",
      "  warnings.warn(msg)\n"
     ]
    },
    {
     "name": "stdout",
     "output_type": "stream",
     "text": [
      "\n",
      "Fold 3/5\n"
     ]
    },
    {
     "name": "stderr",
     "output_type": "stream",
     "text": [
      "Training Progress for PCA 5: 100%|██████████| 120/120 [09:59<00:00,  4.99s/epoch]\n",
      "/home/vnandak/myenv/lib/python3.8/site-packages/torchvision/models/_utils.py:208: UserWarning: The parameter 'pretrained' is deprecated since 0.13 and may be removed in the future, please use 'weights' instead.\n",
      "  warnings.warn(\n",
      "/home/vnandak/myenv/lib/python3.8/site-packages/torchvision/models/_utils.py:223: UserWarning: Arguments other than a weight enum or `None` for 'weights' are deprecated since 0.13 and may be removed in the future. The current behavior is equivalent to passing `weights=ResNet18_Weights.IMAGENET1K_V1`. You can also use `weights=ResNet18_Weights.DEFAULT` to get the most up-to-date weights.\n",
      "  warnings.warn(msg)\n"
     ]
    },
    {
     "name": "stdout",
     "output_type": "stream",
     "text": [
      "\n",
      "Fold 4/5\n"
     ]
    },
    {
     "name": "stderr",
     "output_type": "stream",
     "text": [
      "Training Progress for PCA 5: 100%|██████████| 120/120 [09:59<00:00,  5.00s/epoch]\n",
      "/home/vnandak/myenv/lib/python3.8/site-packages/torchvision/models/_utils.py:208: UserWarning: The parameter 'pretrained' is deprecated since 0.13 and may be removed in the future, please use 'weights' instead.\n",
      "  warnings.warn(\n",
      "/home/vnandak/myenv/lib/python3.8/site-packages/torchvision/models/_utils.py:223: UserWarning: Arguments other than a weight enum or `None` for 'weights' are deprecated since 0.13 and may be removed in the future. The current behavior is equivalent to passing `weights=ResNet18_Weights.IMAGENET1K_V1`. You can also use `weights=ResNet18_Weights.DEFAULT` to get the most up-to-date weights.\n",
      "  warnings.warn(msg)\n"
     ]
    },
    {
     "name": "stdout",
     "output_type": "stream",
     "text": [
      "\n",
      "Fold 5/5\n"
     ]
    },
    {
     "name": "stderr",
     "output_type": "stream",
     "text": [
      "Training Progress for PCA 5: 100%|██████████| 120/120 [09:59<00:00,  4.99s/epoch]\n"
     ]
    },
    {
     "name": "stdout",
     "output_type": "stream",
     "text": [
      "\n",
      "Average Metrics for PCA 5: {'accuracy': 0.9067369735967071, 'precision': 0.900400150632011, 'recall': 0.9103942979263338, 'f1': 0.9050796635816459, 'roc_auc': 0.9071859627269305}\n",
      "\n",
      "Evaluating PCA with 6 components...\n",
      "\n",
      "Fold 1/5\n"
     ]
    },
    {
     "name": "stderr",
     "output_type": "stream",
     "text": [
      "/home/vnandak/myenv/lib/python3.8/site-packages/torchvision/models/_utils.py:208: UserWarning: The parameter 'pretrained' is deprecated since 0.13 and may be removed in the future, please use 'weights' instead.\n",
      "  warnings.warn(\n",
      "/home/vnandak/myenv/lib/python3.8/site-packages/torchvision/models/_utils.py:223: UserWarning: Arguments other than a weight enum or `None` for 'weights' are deprecated since 0.13 and may be removed in the future. The current behavior is equivalent to passing `weights=ResNet18_Weights.IMAGENET1K_V1`. You can also use `weights=ResNet18_Weights.DEFAULT` to get the most up-to-date weights.\n",
      "  warnings.warn(msg)\n",
      "Training Progress for PCA 6: 100%|██████████| 120/120 [09:59<00:00,  4.99s/epoch]\n",
      "/home/vnandak/myenv/lib/python3.8/site-packages/torchvision/models/_utils.py:208: UserWarning: The parameter 'pretrained' is deprecated since 0.13 and may be removed in the future, please use 'weights' instead.\n",
      "  warnings.warn(\n",
      "/home/vnandak/myenv/lib/python3.8/site-packages/torchvision/models/_utils.py:223: UserWarning: Arguments other than a weight enum or `None` for 'weights' are deprecated since 0.13 and may be removed in the future. The current behavior is equivalent to passing `weights=ResNet18_Weights.IMAGENET1K_V1`. You can also use `weights=ResNet18_Weights.DEFAULT` to get the most up-to-date weights.\n",
      "  warnings.warn(msg)\n"
     ]
    },
    {
     "name": "stdout",
     "output_type": "stream",
     "text": [
      "\n",
      "Fold 2/5\n"
     ]
    },
    {
     "name": "stderr",
     "output_type": "stream",
     "text": [
      "Training Progress for PCA 6: 100%|██████████| 120/120 [09:59<00:00,  4.99s/epoch]\n",
      "/home/vnandak/myenv/lib/python3.8/site-packages/torchvision/models/_utils.py:208: UserWarning: The parameter 'pretrained' is deprecated since 0.13 and may be removed in the future, please use 'weights' instead.\n",
      "  warnings.warn(\n",
      "/home/vnandak/myenv/lib/python3.8/site-packages/torchvision/models/_utils.py:223: UserWarning: Arguments other than a weight enum or `None` for 'weights' are deprecated since 0.13 and may be removed in the future. The current behavior is equivalent to passing `weights=ResNet18_Weights.IMAGENET1K_V1`. You can also use `weights=ResNet18_Weights.DEFAULT` to get the most up-to-date weights.\n",
      "  warnings.warn(msg)\n"
     ]
    },
    {
     "name": "stdout",
     "output_type": "stream",
     "text": [
      "\n",
      "Fold 3/5\n"
     ]
    },
    {
     "name": "stderr",
     "output_type": "stream",
     "text": [
      "Training Progress for PCA 6: 100%|██████████| 120/120 [10:00<00:00,  5.00s/epoch]\n",
      "/home/vnandak/myenv/lib/python3.8/site-packages/torchvision/models/_utils.py:208: UserWarning: The parameter 'pretrained' is deprecated since 0.13 and may be removed in the future, please use 'weights' instead.\n",
      "  warnings.warn(\n",
      "/home/vnandak/myenv/lib/python3.8/site-packages/torchvision/models/_utils.py:223: UserWarning: Arguments other than a weight enum or `None` for 'weights' are deprecated since 0.13 and may be removed in the future. The current behavior is equivalent to passing `weights=ResNet18_Weights.IMAGENET1K_V1`. You can also use `weights=ResNet18_Weights.DEFAULT` to get the most up-to-date weights.\n",
      "  warnings.warn(msg)\n"
     ]
    },
    {
     "name": "stdout",
     "output_type": "stream",
     "text": [
      "\n",
      "Fold 4/5\n"
     ]
    },
    {
     "name": "stderr",
     "output_type": "stream",
     "text": [
      "Training Progress for PCA 6: 100%|██████████| 120/120 [09:59<00:00,  4.99s/epoch]\n",
      "/home/vnandak/myenv/lib/python3.8/site-packages/torchvision/models/_utils.py:208: UserWarning: The parameter 'pretrained' is deprecated since 0.13 and may be removed in the future, please use 'weights' instead.\n",
      "  warnings.warn(\n",
      "/home/vnandak/myenv/lib/python3.8/site-packages/torchvision/models/_utils.py:223: UserWarning: Arguments other than a weight enum or `None` for 'weights' are deprecated since 0.13 and may be removed in the future. The current behavior is equivalent to passing `weights=ResNet18_Weights.IMAGENET1K_V1`. You can also use `weights=ResNet18_Weights.DEFAULT` to get the most up-to-date weights.\n",
      "  warnings.warn(msg)\n"
     ]
    },
    {
     "name": "stdout",
     "output_type": "stream",
     "text": [
      "\n",
      "Fold 5/5\n"
     ]
    },
    {
     "name": "stderr",
     "output_type": "stream",
     "text": [
      "Training Progress for PCA 6: 100%|██████████| 120/120 [09:59<00:00,  5.00s/epoch]\n"
     ]
    },
    {
     "name": "stdout",
     "output_type": "stream",
     "text": [
      "\n",
      "Average Metrics for PCA 6: {'accuracy': 0.9048290705825259, 'precision': 0.8939484408527353, 'recall': 0.9141348354320948, 'f1': 0.9036351583339768, 'roc_auc': 0.9048262784185466}\n",
      "\n",
      "Evaluating PCA with 7 components...\n",
      "\n",
      "Fold 1/5\n"
     ]
    },
    {
     "name": "stderr",
     "output_type": "stream",
     "text": [
      "/home/vnandak/myenv/lib/python3.8/site-packages/torchvision/models/_utils.py:208: UserWarning: The parameter 'pretrained' is deprecated since 0.13 and may be removed in the future, please use 'weights' instead.\n",
      "  warnings.warn(\n",
      "/home/vnandak/myenv/lib/python3.8/site-packages/torchvision/models/_utils.py:223: UserWarning: Arguments other than a weight enum or `None` for 'weights' are deprecated since 0.13 and may be removed in the future. The current behavior is equivalent to passing `weights=ResNet18_Weights.IMAGENET1K_V1`. You can also use `weights=ResNet18_Weights.DEFAULT` to get the most up-to-date weights.\n",
      "  warnings.warn(msg)\n",
      "Training Progress for PCA 7: 100%|██████████| 120/120 [10:00<00:00,  5.00s/epoch]\n"
     ]
    },
    {
     "name": "stdout",
     "output_type": "stream",
     "text": [
      "\n",
      "Fold 2/5\n"
     ]
    },
    {
     "name": "stderr",
     "output_type": "stream",
     "text": [
      "/home/vnandak/myenv/lib/python3.8/site-packages/torchvision/models/_utils.py:208: UserWarning: The parameter 'pretrained' is deprecated since 0.13 and may be removed in the future, please use 'weights' instead.\n",
      "  warnings.warn(\n",
      "/home/vnandak/myenv/lib/python3.8/site-packages/torchvision/models/_utils.py:223: UserWarning: Arguments other than a weight enum or `None` for 'weights' are deprecated since 0.13 and may be removed in the future. The current behavior is equivalent to passing `weights=ResNet18_Weights.IMAGENET1K_V1`. You can also use `weights=ResNet18_Weights.DEFAULT` to get the most up-to-date weights.\n",
      "  warnings.warn(msg)\n",
      "Training Progress for PCA 7: 100%|██████████| 120/120 [09:59<00:00,  5.00s/epoch]\n",
      "/home/vnandak/myenv/lib/python3.8/site-packages/torchvision/models/_utils.py:208: UserWarning: The parameter 'pretrained' is deprecated since 0.13 and may be removed in the future, please use 'weights' instead.\n",
      "  warnings.warn(\n",
      "/home/vnandak/myenv/lib/python3.8/site-packages/torchvision/models/_utils.py:223: UserWarning: Arguments other than a weight enum or `None` for 'weights' are deprecated since 0.13 and may be removed in the future. The current behavior is equivalent to passing `weights=ResNet18_Weights.IMAGENET1K_V1`. You can also use `weights=ResNet18_Weights.DEFAULT` to get the most up-to-date weights.\n",
      "  warnings.warn(msg)\n"
     ]
    },
    {
     "name": "stdout",
     "output_type": "stream",
     "text": [
      "\n",
      "Fold 3/5\n"
     ]
    },
    {
     "name": "stderr",
     "output_type": "stream",
     "text": [
      "Training Progress for PCA 7: 100%|██████████| 120/120 [10:00<00:00,  5.00s/epoch]\n",
      "/home/vnandak/myenv/lib/python3.8/site-packages/torchvision/models/_utils.py:208: UserWarning: The parameter 'pretrained' is deprecated since 0.13 and may be removed in the future, please use 'weights' instead.\n",
      "  warnings.warn(\n",
      "/home/vnandak/myenv/lib/python3.8/site-packages/torchvision/models/_utils.py:223: UserWarning: Arguments other than a weight enum or `None` for 'weights' are deprecated since 0.13 and may be removed in the future. The current behavior is equivalent to passing `weights=ResNet18_Weights.IMAGENET1K_V1`. You can also use `weights=ResNet18_Weights.DEFAULT` to get the most up-to-date weights.\n",
      "  warnings.warn(msg)\n"
     ]
    },
    {
     "name": "stdout",
     "output_type": "stream",
     "text": [
      "\n",
      "Fold 4/5\n"
     ]
    },
    {
     "name": "stderr",
     "output_type": "stream",
     "text": [
      "Training Progress for PCA 7: 100%|██████████| 120/120 [10:00<00:00,  5.01s/epoch]\n",
      "/home/vnandak/myenv/lib/python3.8/site-packages/torchvision/models/_utils.py:208: UserWarning: The parameter 'pretrained' is deprecated since 0.13 and may be removed in the future, please use 'weights' instead.\n",
      "  warnings.warn(\n",
      "/home/vnandak/myenv/lib/python3.8/site-packages/torchvision/models/_utils.py:223: UserWarning: Arguments other than a weight enum or `None` for 'weights' are deprecated since 0.13 and may be removed in the future. The current behavior is equivalent to passing `weights=ResNet18_Weights.IMAGENET1K_V1`. You can also use `weights=ResNet18_Weights.DEFAULT` to get the most up-to-date weights.\n",
      "  warnings.warn(msg)\n"
     ]
    },
    {
     "name": "stdout",
     "output_type": "stream",
     "text": [
      "\n",
      "Fold 5/5\n"
     ]
    },
    {
     "name": "stderr",
     "output_type": "stream",
     "text": [
      "Training Progress for PCA 7: 100%|██████████| 120/120 [10:00<00:00,  5.00s/epoch]\n"
     ]
    },
    {
     "name": "stdout",
     "output_type": "stream",
     "text": [
      "\n",
      "Average Metrics for PCA 7: {'accuracy': 0.901227150996639, 'precision': 0.8984054973892028, 'recall': 0.902003624456216, 'f1': 0.8995051049959859, 'roc_auc': 0.9020524911897153}\n",
      "\n",
      "Evaluating PCA with 8 components...\n",
      "\n",
      "Fold 1/5\n"
     ]
    },
    {
     "name": "stderr",
     "output_type": "stream",
     "text": [
      "/home/vnandak/myenv/lib/python3.8/site-packages/torchvision/models/_utils.py:208: UserWarning: The parameter 'pretrained' is deprecated since 0.13 and may be removed in the future, please use 'weights' instead.\n",
      "  warnings.warn(\n",
      "/home/vnandak/myenv/lib/python3.8/site-packages/torchvision/models/_utils.py:223: UserWarning: Arguments other than a weight enum or `None` for 'weights' are deprecated since 0.13 and may be removed in the future. The current behavior is equivalent to passing `weights=ResNet18_Weights.IMAGENET1K_V1`. You can also use `weights=ResNet18_Weights.DEFAULT` to get the most up-to-date weights.\n",
      "  warnings.warn(msg)\n",
      "Training Progress for PCA 8: 100%|██████████| 120/120 [09:59<00:00,  4.99s/epoch]\n",
      "/home/vnandak/myenv/lib/python3.8/site-packages/torchvision/models/_utils.py:208: UserWarning: The parameter 'pretrained' is deprecated since 0.13 and may be removed in the future, please use 'weights' instead.\n",
      "  warnings.warn(\n",
      "/home/vnandak/myenv/lib/python3.8/site-packages/torchvision/models/_utils.py:223: UserWarning: Arguments other than a weight enum or `None` for 'weights' are deprecated since 0.13 and may be removed in the future. The current behavior is equivalent to passing `weights=ResNet18_Weights.IMAGENET1K_V1`. You can also use `weights=ResNet18_Weights.DEFAULT` to get the most up-to-date weights.\n",
      "  warnings.warn(msg)\n"
     ]
    },
    {
     "name": "stdout",
     "output_type": "stream",
     "text": [
      "\n",
      "Fold 2/5\n"
     ]
    },
    {
     "name": "stderr",
     "output_type": "stream",
     "text": [
      "Training Progress for PCA 8: 100%|██████████| 120/120 [09:59<00:00,  5.00s/epoch]\n",
      "/home/vnandak/myenv/lib/python3.8/site-packages/torchvision/models/_utils.py:208: UserWarning: The parameter 'pretrained' is deprecated since 0.13 and may be removed in the future, please use 'weights' instead.\n",
      "  warnings.warn(\n",
      "/home/vnandak/myenv/lib/python3.8/site-packages/torchvision/models/_utils.py:223: UserWarning: Arguments other than a weight enum or `None` for 'weights' are deprecated since 0.13 and may be removed in the future. The current behavior is equivalent to passing `weights=ResNet18_Weights.IMAGENET1K_V1`. You can also use `weights=ResNet18_Weights.DEFAULT` to get the most up-to-date weights.\n",
      "  warnings.warn(msg)\n"
     ]
    },
    {
     "name": "stdout",
     "output_type": "stream",
     "text": [
      "\n",
      "Fold 3/5\n"
     ]
    },
    {
     "name": "stderr",
     "output_type": "stream",
     "text": [
      "Training Progress for PCA 8: 100%|██████████| 120/120 [09:59<00:00,  4.99s/epoch]\n",
      "/home/vnandak/myenv/lib/python3.8/site-packages/torchvision/models/_utils.py:208: UserWarning: The parameter 'pretrained' is deprecated since 0.13 and may be removed in the future, please use 'weights' instead.\n",
      "  warnings.warn(\n",
      "/home/vnandak/myenv/lib/python3.8/site-packages/torchvision/models/_utils.py:223: UserWarning: Arguments other than a weight enum or `None` for 'weights' are deprecated since 0.13 and may be removed in the future. The current behavior is equivalent to passing `weights=ResNet18_Weights.IMAGENET1K_V1`. You can also use `weights=ResNet18_Weights.DEFAULT` to get the most up-to-date weights.\n",
      "  warnings.warn(msg)\n"
     ]
    },
    {
     "name": "stdout",
     "output_type": "stream",
     "text": [
      "\n",
      "Fold 4/5\n"
     ]
    },
    {
     "name": "stderr",
     "output_type": "stream",
     "text": [
      "Training Progress for PCA 8: 100%|██████████| 120/120 [10:00<00:00,  5.00s/epoch]\n",
      "/home/vnandak/myenv/lib/python3.8/site-packages/torchvision/models/_utils.py:208: UserWarning: The parameter 'pretrained' is deprecated since 0.13 and may be removed in the future, please use 'weights' instead.\n",
      "  warnings.warn(\n",
      "/home/vnandak/myenv/lib/python3.8/site-packages/torchvision/models/_utils.py:223: UserWarning: Arguments other than a weight enum or `None` for 'weights' are deprecated since 0.13 and may be removed in the future. The current behavior is equivalent to passing `weights=ResNet18_Weights.IMAGENET1K_V1`. You can also use `weights=ResNet18_Weights.DEFAULT` to get the most up-to-date weights.\n",
      "  warnings.warn(msg)\n"
     ]
    },
    {
     "name": "stdout",
     "output_type": "stream",
     "text": [
      "\n",
      "Fold 5/5\n"
     ]
    },
    {
     "name": "stderr",
     "output_type": "stream",
     "text": [
      "Training Progress for PCA 8: 100%|██████████| 120/120 [09:59<00:00,  5.00s/epoch]\n"
     ]
    },
    {
     "name": "stdout",
     "output_type": "stream",
     "text": [
      "\n",
      "Average Metrics for PCA 8: {'accuracy': 0.8942324801840502, 'precision': 0.9037254505444509, 'recall': 0.8779936457704547, 'f1': 0.8898234133396533, 'roc_auc': 0.8931588708421637}\n",
      "\n",
      "Evaluating PCA with 9 components...\n",
      "\n",
      "Fold 1/5\n"
     ]
    },
    {
     "name": "stderr",
     "output_type": "stream",
     "text": [
      "/home/vnandak/myenv/lib/python3.8/site-packages/torchvision/models/_utils.py:208: UserWarning: The parameter 'pretrained' is deprecated since 0.13 and may be removed in the future, please use 'weights' instead.\n",
      "  warnings.warn(\n",
      "/home/vnandak/myenv/lib/python3.8/site-packages/torchvision/models/_utils.py:223: UserWarning: Arguments other than a weight enum or `None` for 'weights' are deprecated since 0.13 and may be removed in the future. The current behavior is equivalent to passing `weights=ResNet18_Weights.IMAGENET1K_V1`. You can also use `weights=ResNet18_Weights.DEFAULT` to get the most up-to-date weights.\n",
      "  warnings.warn(msg)\n",
      "Training Progress for PCA 9: 100%|██████████| 120/120 [09:59<00:00,  5.00s/epoch]\n",
      "/home/vnandak/myenv/lib/python3.8/site-packages/torchvision/models/_utils.py:208: UserWarning: The parameter 'pretrained' is deprecated since 0.13 and may be removed in the future, please use 'weights' instead.\n",
      "  warnings.warn(\n",
      "/home/vnandak/myenv/lib/python3.8/site-packages/torchvision/models/_utils.py:223: UserWarning: Arguments other than a weight enum or `None` for 'weights' are deprecated since 0.13 and may be removed in the future. The current behavior is equivalent to passing `weights=ResNet18_Weights.IMAGENET1K_V1`. You can also use `weights=ResNet18_Weights.DEFAULT` to get the most up-to-date weights.\n",
      "  warnings.warn(msg)\n"
     ]
    },
    {
     "name": "stdout",
     "output_type": "stream",
     "text": [
      "\n",
      "Fold 2/5\n"
     ]
    },
    {
     "name": "stderr",
     "output_type": "stream",
     "text": [
      "Training Progress for PCA 9: 100%|██████████| 120/120 [09:59<00:00,  5.00s/epoch]\n"
     ]
    },
    {
     "name": "stdout",
     "output_type": "stream",
     "text": [
      "\n",
      "Fold 3/5\n"
     ]
    },
    {
     "name": "stderr",
     "output_type": "stream",
     "text": [
      "/home/vnandak/myenv/lib/python3.8/site-packages/torchvision/models/_utils.py:208: UserWarning: The parameter 'pretrained' is deprecated since 0.13 and may be removed in the future, please use 'weights' instead.\n",
      "  warnings.warn(\n",
      "/home/vnandak/myenv/lib/python3.8/site-packages/torchvision/models/_utils.py:223: UserWarning: Arguments other than a weight enum or `None` for 'weights' are deprecated since 0.13 and may be removed in the future. The current behavior is equivalent to passing `weights=ResNet18_Weights.IMAGENET1K_V1`. You can also use `weights=ResNet18_Weights.DEFAULT` to get the most up-to-date weights.\n",
      "  warnings.warn(msg)\n",
      "Training Progress for PCA 9: 100%|██████████| 120/120 [09:59<00:00,  5.00s/epoch]\n",
      "/home/vnandak/myenv/lib/python3.8/site-packages/torchvision/models/_utils.py:208: UserWarning: The parameter 'pretrained' is deprecated since 0.13 and may be removed in the future, please use 'weights' instead.\n",
      "  warnings.warn(\n",
      "/home/vnandak/myenv/lib/python3.8/site-packages/torchvision/models/_utils.py:223: UserWarning: Arguments other than a weight enum or `None` for 'weights' are deprecated since 0.13 and may be removed in the future. The current behavior is equivalent to passing `weights=ResNet18_Weights.IMAGENET1K_V1`. You can also use `weights=ResNet18_Weights.DEFAULT` to get the most up-to-date weights.\n",
      "  warnings.warn(msg)\n"
     ]
    },
    {
     "name": "stdout",
     "output_type": "stream",
     "text": [
      "\n",
      "Fold 4/5\n"
     ]
    },
    {
     "name": "stderr",
     "output_type": "stream",
     "text": [
      "Training Progress for PCA 9: 100%|██████████| 120/120 [09:59<00:00,  5.00s/epoch]\n",
      "/home/vnandak/myenv/lib/python3.8/site-packages/torchvision/models/_utils.py:208: UserWarning: The parameter 'pretrained' is deprecated since 0.13 and may be removed in the future, please use 'weights' instead.\n",
      "  warnings.warn(\n",
      "/home/vnandak/myenv/lib/python3.8/site-packages/torchvision/models/_utils.py:223: UserWarning: Arguments other than a weight enum or `None` for 'weights' are deprecated since 0.13 and may be removed in the future. The current behavior is equivalent to passing `weights=ResNet18_Weights.IMAGENET1K_V1`. You can also use `weights=ResNet18_Weights.DEFAULT` to get the most up-to-date weights.\n",
      "  warnings.warn(msg)\n"
     ]
    },
    {
     "name": "stdout",
     "output_type": "stream",
     "text": [
      "\n",
      "Fold 5/5\n"
     ]
    },
    {
     "name": "stderr",
     "output_type": "stream",
     "text": [
      "Training Progress for PCA 9: 100%|██████████| 120/120 [09:59<00:00,  4.99s/epoch]\n"
     ]
    },
    {
     "name": "stdout",
     "output_type": "stream",
     "text": [
      "\n",
      "Average Metrics for PCA 9: {'accuracy': 0.9088574150295667, 'precision': 0.9025381592094615, 'recall': 0.9128255862434734, 'f1': 0.9072611060361531, 'roc_auc': 0.9086567060813323}\n",
      "\n",
      "Evaluating PCA with 10 components...\n",
      "\n",
      "Fold 1/5\n"
     ]
    },
    {
     "name": "stderr",
     "output_type": "stream",
     "text": [
      "/home/vnandak/myenv/lib/python3.8/site-packages/torchvision/models/_utils.py:208: UserWarning: The parameter 'pretrained' is deprecated since 0.13 and may be removed in the future, please use 'weights' instead.\n",
      "  warnings.warn(\n",
      "/home/vnandak/myenv/lib/python3.8/site-packages/torchvision/models/_utils.py:223: UserWarning: Arguments other than a weight enum or `None` for 'weights' are deprecated since 0.13 and may be removed in the future. The current behavior is equivalent to passing `weights=ResNet18_Weights.IMAGENET1K_V1`. You can also use `weights=ResNet18_Weights.DEFAULT` to get the most up-to-date weights.\n",
      "  warnings.warn(msg)\n",
      "Training Progress for PCA 10: 100%|██████████| 120/120 [09:59<00:00,  4.99s/epoch]\n",
      "/home/vnandak/myenv/lib/python3.8/site-packages/torchvision/models/_utils.py:208: UserWarning: The parameter 'pretrained' is deprecated since 0.13 and may be removed in the future, please use 'weights' instead.\n",
      "  warnings.warn(\n",
      "/home/vnandak/myenv/lib/python3.8/site-packages/torchvision/models/_utils.py:223: UserWarning: Arguments other than a weight enum or `None` for 'weights' are deprecated since 0.13 and may be removed in the future. The current behavior is equivalent to passing `weights=ResNet18_Weights.IMAGENET1K_V1`. You can also use `weights=ResNet18_Weights.DEFAULT` to get the most up-to-date weights.\n",
      "  warnings.warn(msg)\n"
     ]
    },
    {
     "name": "stdout",
     "output_type": "stream",
     "text": [
      "\n",
      "Fold 2/5\n"
     ]
    },
    {
     "name": "stderr",
     "output_type": "stream",
     "text": [
      "Training Progress for PCA 10: 100%|██████████| 120/120 [09:59<00:00,  5.00s/epoch]\n",
      "/home/vnandak/myenv/lib/python3.8/site-packages/torchvision/models/_utils.py:208: UserWarning: The parameter 'pretrained' is deprecated since 0.13 and may be removed in the future, please use 'weights' instead.\n",
      "  warnings.warn(\n",
      "/home/vnandak/myenv/lib/python3.8/site-packages/torchvision/models/_utils.py:223: UserWarning: Arguments other than a weight enum or `None` for 'weights' are deprecated since 0.13 and may be removed in the future. The current behavior is equivalent to passing `weights=ResNet18_Weights.IMAGENET1K_V1`. You can also use `weights=ResNet18_Weights.DEFAULT` to get the most up-to-date weights.\n",
      "  warnings.warn(msg)\n"
     ]
    },
    {
     "name": "stdout",
     "output_type": "stream",
     "text": [
      "\n",
      "Fold 3/5\n"
     ]
    },
    {
     "name": "stderr",
     "output_type": "stream",
     "text": [
      "Training Progress for PCA 10: 100%|██████████| 120/120 [09:59<00:00,  5.00s/epoch]\n",
      "/home/vnandak/myenv/lib/python3.8/site-packages/torchvision/models/_utils.py:208: UserWarning: The parameter 'pretrained' is deprecated since 0.13 and may be removed in the future, please use 'weights' instead.\n",
      "  warnings.warn(\n",
      "/home/vnandak/myenv/lib/python3.8/site-packages/torchvision/models/_utils.py:223: UserWarning: Arguments other than a weight enum or `None` for 'weights' are deprecated since 0.13 and may be removed in the future. The current behavior is equivalent to passing `weights=ResNet18_Weights.IMAGENET1K_V1`. You can also use `weights=ResNet18_Weights.DEFAULT` to get the most up-to-date weights.\n",
      "  warnings.warn(msg)\n"
     ]
    },
    {
     "name": "stdout",
     "output_type": "stream",
     "text": [
      "\n",
      "Fold 4/5\n"
     ]
    },
    {
     "name": "stderr",
     "output_type": "stream",
     "text": [
      "Training Progress for PCA 10: 100%|██████████| 120/120 [10:00<00:00,  5.00s/epoch]\n",
      "/home/vnandak/myenv/lib/python3.8/site-packages/torchvision/models/_utils.py:208: UserWarning: The parameter 'pretrained' is deprecated since 0.13 and may be removed in the future, please use 'weights' instead.\n",
      "  warnings.warn(\n",
      "/home/vnandak/myenv/lib/python3.8/site-packages/torchvision/models/_utils.py:223: UserWarning: Arguments other than a weight enum or `None` for 'weights' are deprecated since 0.13 and may be removed in the future. The current behavior is equivalent to passing `weights=ResNet18_Weights.IMAGENET1K_V1`. You can also use `weights=ResNet18_Weights.DEFAULT` to get the most up-to-date weights.\n",
      "  warnings.warn(msg)\n"
     ]
    },
    {
     "name": "stdout",
     "output_type": "stream",
     "text": [
      "\n",
      "Fold 5/5\n"
     ]
    },
    {
     "name": "stderr",
     "output_type": "stream",
     "text": [
      "Training Progress for PCA 10: 100%|██████████| 120/120 [10:01<00:00,  5.01s/epoch]\n"
     ]
    },
    {
     "name": "stdout",
     "output_type": "stream",
     "text": [
      "\n",
      "Average Metrics for PCA 10: {'accuracy': 0.9039809389435088, 'precision': 0.9063798008528738, 'recall': 0.8983379347913545, 'f1': 0.9014964858402459, 'roc_auc': 0.9047888116209097}\n",
      "\n",
      "Evaluating PCA with 11 components...\n",
      "\n",
      "Fold 1/5\n"
     ]
    },
    {
     "name": "stderr",
     "output_type": "stream",
     "text": [
      "/home/vnandak/myenv/lib/python3.8/site-packages/torchvision/models/_utils.py:208: UserWarning: The parameter 'pretrained' is deprecated since 0.13 and may be removed in the future, please use 'weights' instead.\n",
      "  warnings.warn(\n",
      "/home/vnandak/myenv/lib/python3.8/site-packages/torchvision/models/_utils.py:223: UserWarning: Arguments other than a weight enum or `None` for 'weights' are deprecated since 0.13 and may be removed in the future. The current behavior is equivalent to passing `weights=ResNet18_Weights.IMAGENET1K_V1`. You can also use `weights=ResNet18_Weights.DEFAULT` to get the most up-to-date weights.\n",
      "  warnings.warn(msg)\n",
      "Training Progress for PCA 11: 100%|██████████| 120/120 [09:59<00:00,  4.99s/epoch]\n",
      "/home/vnandak/myenv/lib/python3.8/site-packages/torchvision/models/_utils.py:208: UserWarning: The parameter 'pretrained' is deprecated since 0.13 and may be removed in the future, please use 'weights' instead.\n",
      "  warnings.warn(\n",
      "/home/vnandak/myenv/lib/python3.8/site-packages/torchvision/models/_utils.py:223: UserWarning: Arguments other than a weight enum or `None` for 'weights' are deprecated since 0.13 and may be removed in the future. The current behavior is equivalent to passing `weights=ResNet18_Weights.IMAGENET1K_V1`. You can also use `weights=ResNet18_Weights.DEFAULT` to get the most up-to-date weights.\n",
      "  warnings.warn(msg)\n"
     ]
    },
    {
     "name": "stdout",
     "output_type": "stream",
     "text": [
      "\n",
      "Fold 2/5\n"
     ]
    },
    {
     "name": "stderr",
     "output_type": "stream",
     "text": [
      "Training Progress for PCA 11: 100%|██████████| 120/120 [10:00<00:00,  5.00s/epoch]\n"
     ]
    },
    {
     "name": "stdout",
     "output_type": "stream",
     "text": [
      "\n",
      "Fold 3/5\n"
     ]
    },
    {
     "name": "stderr",
     "output_type": "stream",
     "text": [
      "/home/vnandak/myenv/lib/python3.8/site-packages/torchvision/models/_utils.py:208: UserWarning: The parameter 'pretrained' is deprecated since 0.13 and may be removed in the future, please use 'weights' instead.\n",
      "  warnings.warn(\n",
      "/home/vnandak/myenv/lib/python3.8/site-packages/torchvision/models/_utils.py:223: UserWarning: Arguments other than a weight enum or `None` for 'weights' are deprecated since 0.13 and may be removed in the future. The current behavior is equivalent to passing `weights=ResNet18_Weights.IMAGENET1K_V1`. You can also use `weights=ResNet18_Weights.DEFAULT` to get the most up-to-date weights.\n",
      "  warnings.warn(msg)\n",
      "Training Progress for PCA 11: 100%|██████████| 120/120 [10:00<00:00,  5.01s/epoch]\n",
      "/home/vnandak/myenv/lib/python3.8/site-packages/torchvision/models/_utils.py:208: UserWarning: The parameter 'pretrained' is deprecated since 0.13 and may be removed in the future, please use 'weights' instead.\n",
      "  warnings.warn(\n",
      "/home/vnandak/myenv/lib/python3.8/site-packages/torchvision/models/_utils.py:223: UserWarning: Arguments other than a weight enum or `None` for 'weights' are deprecated since 0.13 and may be removed in the future. The current behavior is equivalent to passing `weights=ResNet18_Weights.IMAGENET1K_V1`. You can also use `weights=ResNet18_Weights.DEFAULT` to get the most up-to-date weights.\n",
      "  warnings.warn(msg)\n"
     ]
    },
    {
     "name": "stdout",
     "output_type": "stream",
     "text": [
      "\n",
      "Fold 4/5\n"
     ]
    },
    {
     "name": "stderr",
     "output_type": "stream",
     "text": [
      "Training Progress for PCA 11: 100%|██████████| 120/120 [09:59<00:00,  4.99s/epoch]\n",
      "/home/vnandak/myenv/lib/python3.8/site-packages/torchvision/models/_utils.py:208: UserWarning: The parameter 'pretrained' is deprecated since 0.13 and may be removed in the future, please use 'weights' instead.\n",
      "  warnings.warn(\n",
      "/home/vnandak/myenv/lib/python3.8/site-packages/torchvision/models/_utils.py:223: UserWarning: Arguments other than a weight enum or `None` for 'weights' are deprecated since 0.13 and may be removed in the future. The current behavior is equivalent to passing `weights=ResNet18_Weights.IMAGENET1K_V1`. You can also use `weights=ResNet18_Weights.DEFAULT` to get the most up-to-date weights.\n",
      "  warnings.warn(msg)\n"
     ]
    },
    {
     "name": "stdout",
     "output_type": "stream",
     "text": [
      "\n",
      "Fold 5/5\n"
     ]
    },
    {
     "name": "stderr",
     "output_type": "stream",
     "text": [
      "Training Progress for PCA 11: 100%|██████████| 120/120 [10:00<00:00,  5.00s/epoch]\n"
     ]
    },
    {
     "name": "stdout",
     "output_type": "stream",
     "text": [
      "\n",
      "Average Metrics for PCA 11: {'accuracy': 0.9080126534500422, 'precision': 0.8990527561053984, 'recall': 0.9164029927099548, 'f1': 0.9070756891619253, 'roc_auc': 0.9089778475197436}\n",
      "\n",
      "Evaluating PCA with 12 components...\n",
      "\n",
      "Fold 1/5\n"
     ]
    },
    {
     "name": "stderr",
     "output_type": "stream",
     "text": [
      "/home/vnandak/myenv/lib/python3.8/site-packages/torchvision/models/_utils.py:208: UserWarning: The parameter 'pretrained' is deprecated since 0.13 and may be removed in the future, please use 'weights' instead.\n",
      "  warnings.warn(\n",
      "/home/vnandak/myenv/lib/python3.8/site-packages/torchvision/models/_utils.py:223: UserWarning: Arguments other than a weight enum or `None` for 'weights' are deprecated since 0.13 and may be removed in the future. The current behavior is equivalent to passing `weights=ResNet18_Weights.IMAGENET1K_V1`. You can also use `weights=ResNet18_Weights.DEFAULT` to get the most up-to-date weights.\n",
      "  warnings.warn(msg)\n",
      "Training Progress for PCA 12: 100%|██████████| 120/120 [09:59<00:00,  5.00s/epoch]\n"
     ]
    },
    {
     "name": "stdout",
     "output_type": "stream",
     "text": [
      "\n",
      "Fold 2/5\n"
     ]
    },
    {
     "name": "stderr",
     "output_type": "stream",
     "text": [
      "/home/vnandak/myenv/lib/python3.8/site-packages/torchvision/models/_utils.py:208: UserWarning: The parameter 'pretrained' is deprecated since 0.13 and may be removed in the future, please use 'weights' instead.\n",
      "  warnings.warn(\n",
      "/home/vnandak/myenv/lib/python3.8/site-packages/torchvision/models/_utils.py:223: UserWarning: Arguments other than a weight enum or `None` for 'weights' are deprecated since 0.13 and may be removed in the future. The current behavior is equivalent to passing `weights=ResNet18_Weights.IMAGENET1K_V1`. You can also use `weights=ResNet18_Weights.DEFAULT` to get the most up-to-date weights.\n",
      "  warnings.warn(msg)\n",
      "Training Progress for PCA 12: 100%|██████████| 120/120 [09:59<00:00,  5.00s/epoch]\n",
      "/home/vnandak/myenv/lib/python3.8/site-packages/torchvision/models/_utils.py:208: UserWarning: The parameter 'pretrained' is deprecated since 0.13 and may be removed in the future, please use 'weights' instead.\n",
      "  warnings.warn(\n",
      "/home/vnandak/myenv/lib/python3.8/site-packages/torchvision/models/_utils.py:223: UserWarning: Arguments other than a weight enum or `None` for 'weights' are deprecated since 0.13 and may be removed in the future. The current behavior is equivalent to passing `weights=ResNet18_Weights.IMAGENET1K_V1`. You can also use `weights=ResNet18_Weights.DEFAULT` to get the most up-to-date weights.\n",
      "  warnings.warn(msg)\n"
     ]
    },
    {
     "name": "stdout",
     "output_type": "stream",
     "text": [
      "\n",
      "Fold 3/5\n"
     ]
    },
    {
     "name": "stderr",
     "output_type": "stream",
     "text": [
      "Training Progress for PCA 12: 100%|██████████| 120/120 [09:59<00:00,  5.00s/epoch]\n"
     ]
    },
    {
     "name": "stdout",
     "output_type": "stream",
     "text": [
      "\n",
      "Fold 4/5\n"
     ]
    },
    {
     "name": "stderr",
     "output_type": "stream",
     "text": [
      "/home/vnandak/myenv/lib/python3.8/site-packages/torchvision/models/_utils.py:208: UserWarning: The parameter 'pretrained' is deprecated since 0.13 and may be removed in the future, please use 'weights' instead.\n",
      "  warnings.warn(\n",
      "/home/vnandak/myenv/lib/python3.8/site-packages/torchvision/models/_utils.py:223: UserWarning: Arguments other than a weight enum or `None` for 'weights' are deprecated since 0.13 and may be removed in the future. The current behavior is equivalent to passing `weights=ResNet18_Weights.IMAGENET1K_V1`. You can also use `weights=ResNet18_Weights.DEFAULT` to get the most up-to-date weights.\n",
      "  warnings.warn(msg)\n",
      "Training Progress for PCA 12: 100%|██████████| 120/120 [10:00<00:00,  5.00s/epoch]\n",
      "/home/vnandak/myenv/lib/python3.8/site-packages/torchvision/models/_utils.py:208: UserWarning: The parameter 'pretrained' is deprecated since 0.13 and may be removed in the future, please use 'weights' instead.\n",
      "  warnings.warn(\n",
      "/home/vnandak/myenv/lib/python3.8/site-packages/torchvision/models/_utils.py:223: UserWarning: Arguments other than a weight enum or `None` for 'weights' are deprecated since 0.13 and may be removed in the future. The current behavior is equivalent to passing `weights=ResNet18_Weights.IMAGENET1K_V1`. You can also use `weights=ResNet18_Weights.DEFAULT` to get the most up-to-date weights.\n",
      "  warnings.warn(msg)\n"
     ]
    },
    {
     "name": "stdout",
     "output_type": "stream",
     "text": [
      "\n",
      "Fold 5/5\n"
     ]
    },
    {
     "name": "stderr",
     "output_type": "stream",
     "text": [
      "Training Progress for PCA 12: 100%|██████████| 120/120 [09:59<00:00,  5.00s/epoch]\n"
     ]
    },
    {
     "name": "stdout",
     "output_type": "stream",
     "text": [
      "\n",
      "Average Metrics for PCA 12: {'accuracy': 0.9111888221866744, 'precision': 0.904250520005337, 'recall': 0.9160583563489398, 'f1': 0.909816206671023, 'roc_auc': 0.9116135876831141}\n",
      "\n",
      "Evaluating PCA with 13 components...\n",
      "\n",
      "Fold 1/5\n"
     ]
    },
    {
     "name": "stderr",
     "output_type": "stream",
     "text": [
      "/home/vnandak/myenv/lib/python3.8/site-packages/torchvision/models/_utils.py:208: UserWarning: The parameter 'pretrained' is deprecated since 0.13 and may be removed in the future, please use 'weights' instead.\n",
      "  warnings.warn(\n",
      "/home/vnandak/myenv/lib/python3.8/site-packages/torchvision/models/_utils.py:223: UserWarning: Arguments other than a weight enum or `None` for 'weights' are deprecated since 0.13 and may be removed in the future. The current behavior is equivalent to passing `weights=ResNet18_Weights.IMAGENET1K_V1`. You can also use `weights=ResNet18_Weights.DEFAULT` to get the most up-to-date weights.\n",
      "  warnings.warn(msg)\n",
      "Training Progress for PCA 13: 100%|██████████| 120/120 [10:00<00:00,  5.00s/epoch]\n",
      "/home/vnandak/myenv/lib/python3.8/site-packages/torchvision/models/_utils.py:208: UserWarning: The parameter 'pretrained' is deprecated since 0.13 and may be removed in the future, please use 'weights' instead.\n",
      "  warnings.warn(\n",
      "/home/vnandak/myenv/lib/python3.8/site-packages/torchvision/models/_utils.py:223: UserWarning: Arguments other than a weight enum or `None` for 'weights' are deprecated since 0.13 and may be removed in the future. The current behavior is equivalent to passing `weights=ResNet18_Weights.IMAGENET1K_V1`. You can also use `weights=ResNet18_Weights.DEFAULT` to get the most up-to-date weights.\n",
      "  warnings.warn(msg)\n"
     ]
    },
    {
     "name": "stdout",
     "output_type": "stream",
     "text": [
      "\n",
      "Fold 2/5\n"
     ]
    },
    {
     "name": "stderr",
     "output_type": "stream",
     "text": [
      "Training Progress for PCA 13: 100%|██████████| 120/120 [09:59<00:00,  5.00s/epoch]\n",
      "/home/vnandak/myenv/lib/python3.8/site-packages/torchvision/models/_utils.py:208: UserWarning: The parameter 'pretrained' is deprecated since 0.13 and may be removed in the future, please use 'weights' instead.\n",
      "  warnings.warn(\n",
      "/home/vnandak/myenv/lib/python3.8/site-packages/torchvision/models/_utils.py:223: UserWarning: Arguments other than a weight enum or `None` for 'weights' are deprecated since 0.13 and may be removed in the future. The current behavior is equivalent to passing `weights=ResNet18_Weights.IMAGENET1K_V1`. You can also use `weights=ResNet18_Weights.DEFAULT` to get the most up-to-date weights.\n",
      "  warnings.warn(msg)\n"
     ]
    },
    {
     "name": "stdout",
     "output_type": "stream",
     "text": [
      "\n",
      "Fold 3/5\n"
     ]
    },
    {
     "name": "stderr",
     "output_type": "stream",
     "text": [
      "Training Progress for PCA 13: 100%|██████████| 120/120 [09:59<00:00,  5.00s/epoch]\n",
      "/home/vnandak/myenv/lib/python3.8/site-packages/torchvision/models/_utils.py:208: UserWarning: The parameter 'pretrained' is deprecated since 0.13 and may be removed in the future, please use 'weights' instead.\n",
      "  warnings.warn(\n",
      "/home/vnandak/myenv/lib/python3.8/site-packages/torchvision/models/_utils.py:223: UserWarning: Arguments other than a weight enum or `None` for 'weights' are deprecated since 0.13 and may be removed in the future. The current behavior is equivalent to passing `weights=ResNet18_Weights.IMAGENET1K_V1`. You can also use `weights=ResNet18_Weights.DEFAULT` to get the most up-to-date weights.\n",
      "  warnings.warn(msg)\n"
     ]
    },
    {
     "name": "stdout",
     "output_type": "stream",
     "text": [
      "\n",
      "Fold 4/5\n"
     ]
    },
    {
     "name": "stderr",
     "output_type": "stream",
     "text": [
      "Training Progress for PCA 13: 100%|██████████| 120/120 [10:00<00:00,  5.00s/epoch]\n",
      "/home/vnandak/myenv/lib/python3.8/site-packages/torchvision/models/_utils.py:208: UserWarning: The parameter 'pretrained' is deprecated since 0.13 and may be removed in the future, please use 'weights' instead.\n",
      "  warnings.warn(\n",
      "/home/vnandak/myenv/lib/python3.8/site-packages/torchvision/models/_utils.py:223: UserWarning: Arguments other than a weight enum or `None` for 'weights' are deprecated since 0.13 and may be removed in the future. The current behavior is equivalent to passing `weights=ResNet18_Weights.IMAGENET1K_V1`. You can also use `weights=ResNet18_Weights.DEFAULT` to get the most up-to-date weights.\n",
      "  warnings.warn(msg)\n"
     ]
    },
    {
     "name": "stdout",
     "output_type": "stream",
     "text": [
      "\n",
      "Fold 5/5\n"
     ]
    },
    {
     "name": "stderr",
     "output_type": "stream",
     "text": [
      "Training Progress for PCA 13: 100%|██████████| 120/120 [09:59<00:00,  5.00s/epoch]\n"
     ]
    },
    {
     "name": "stdout",
     "output_type": "stream",
     "text": [
      "\n",
      "Average Metrics for PCA 13: {'accuracy': 0.9041923540090228, 'precision': 0.9032162410070382, 'recall': 0.8999091060136214, 'f1': 0.9014077023409917, 'roc_auc': 0.9034351780093666}\n",
      "\n",
      "Evaluating PCA with 14 components...\n",
      "\n",
      "Fold 1/5\n"
     ]
    },
    {
     "name": "stderr",
     "output_type": "stream",
     "text": [
      "/home/vnandak/myenv/lib/python3.8/site-packages/torchvision/models/_utils.py:208: UserWarning: The parameter 'pretrained' is deprecated since 0.13 and may be removed in the future, please use 'weights' instead.\n",
      "  warnings.warn(\n",
      "/home/vnandak/myenv/lib/python3.8/site-packages/torchvision/models/_utils.py:223: UserWarning: Arguments other than a weight enum or `None` for 'weights' are deprecated since 0.13 and may be removed in the future. The current behavior is equivalent to passing `weights=ResNet18_Weights.IMAGENET1K_V1`. You can also use `weights=ResNet18_Weights.DEFAULT` to get the most up-to-date weights.\n",
      "  warnings.warn(msg)\n",
      "Training Progress for PCA 14: 100%|██████████| 120/120 [10:00<00:00,  5.00s/epoch]\n",
      "/home/vnandak/myenv/lib/python3.8/site-packages/torchvision/models/_utils.py:208: UserWarning: The parameter 'pretrained' is deprecated since 0.13 and may be removed in the future, please use 'weights' instead.\n",
      "  warnings.warn(\n",
      "/home/vnandak/myenv/lib/python3.8/site-packages/torchvision/models/_utils.py:223: UserWarning: Arguments other than a weight enum or `None` for 'weights' are deprecated since 0.13 and may be removed in the future. The current behavior is equivalent to passing `weights=ResNet18_Weights.IMAGENET1K_V1`. You can also use `weights=ResNet18_Weights.DEFAULT` to get the most up-to-date weights.\n",
      "  warnings.warn(msg)\n"
     ]
    },
    {
     "name": "stdout",
     "output_type": "stream",
     "text": [
      "\n",
      "Fold 2/5\n"
     ]
    },
    {
     "name": "stderr",
     "output_type": "stream",
     "text": [
      "Training Progress for PCA 14: 100%|██████████| 120/120 [10:00<00:00,  5.00s/epoch]\n",
      "/home/vnandak/myenv/lib/python3.8/site-packages/torchvision/models/_utils.py:208: UserWarning: The parameter 'pretrained' is deprecated since 0.13 and may be removed in the future, please use 'weights' instead.\n",
      "  warnings.warn(\n",
      "/home/vnandak/myenv/lib/python3.8/site-packages/torchvision/models/_utils.py:223: UserWarning: Arguments other than a weight enum or `None` for 'weights' are deprecated since 0.13 and may be removed in the future. The current behavior is equivalent to passing `weights=ResNet18_Weights.IMAGENET1K_V1`. You can also use `weights=ResNet18_Weights.DEFAULT` to get the most up-to-date weights.\n",
      "  warnings.warn(msg)\n"
     ]
    },
    {
     "name": "stdout",
     "output_type": "stream",
     "text": [
      "\n",
      "Fold 3/5\n"
     ]
    },
    {
     "name": "stderr",
     "output_type": "stream",
     "text": [
      "Training Progress for PCA 14: 100%|██████████| 120/120 [09:59<00:00,  5.00s/epoch]\n",
      "/home/vnandak/myenv/lib/python3.8/site-packages/torchvision/models/_utils.py:208: UserWarning: The parameter 'pretrained' is deprecated since 0.13 and may be removed in the future, please use 'weights' instead.\n",
      "  warnings.warn(\n",
      "/home/vnandak/myenv/lib/python3.8/site-packages/torchvision/models/_utils.py:223: UserWarning: Arguments other than a weight enum or `None` for 'weights' are deprecated since 0.13 and may be removed in the future. The current behavior is equivalent to passing `weights=ResNet18_Weights.IMAGENET1K_V1`. You can also use `weights=ResNet18_Weights.DEFAULT` to get the most up-to-date weights.\n",
      "  warnings.warn(msg)\n"
     ]
    },
    {
     "name": "stdout",
     "output_type": "stream",
     "text": [
      "\n",
      "Fold 4/5\n"
     ]
    },
    {
     "name": "stderr",
     "output_type": "stream",
     "text": [
      "Training Progress for PCA 14: 100%|██████████| 120/120 [10:00<00:00,  5.00s/epoch]\n",
      "/home/vnandak/myenv/lib/python3.8/site-packages/torchvision/models/_utils.py:208: UserWarning: The parameter 'pretrained' is deprecated since 0.13 and may be removed in the future, please use 'weights' instead.\n",
      "  warnings.warn(\n",
      "/home/vnandak/myenv/lib/python3.8/site-packages/torchvision/models/_utils.py:223: UserWarning: Arguments other than a weight enum or `None` for 'weights' are deprecated since 0.13 and may be removed in the future. The current behavior is equivalent to passing `weights=ResNet18_Weights.IMAGENET1K_V1`. You can also use `weights=ResNet18_Weights.DEFAULT` to get the most up-to-date weights.\n",
      "  warnings.warn(msg)\n"
     ]
    },
    {
     "name": "stdout",
     "output_type": "stream",
     "text": [
      "\n",
      "Fold 5/5\n"
     ]
    },
    {
     "name": "stderr",
     "output_type": "stream",
     "text": [
      "Training Progress for PCA 14: 100%|██████████| 120/120 [10:00<00:00,  5.00s/epoch]\n"
     ]
    },
    {
     "name": "stdout",
     "output_type": "stream",
     "text": [
      "\n",
      "Average Metrics for PCA 14: {'accuracy': 0.9046181048582778, 'precision': 0.8999723806932499, 'recall': 0.9078335926482486, 'f1': 0.9029057554597631, 'roc_auc': 0.9053278998129969}\n",
      "\n",
      "Evaluating PCA with 15 components...\n",
      "\n",
      "Fold 1/5\n"
     ]
    },
    {
     "name": "stderr",
     "output_type": "stream",
     "text": [
      "/home/vnandak/myenv/lib/python3.8/site-packages/torchvision/models/_utils.py:208: UserWarning: The parameter 'pretrained' is deprecated since 0.13 and may be removed in the future, please use 'weights' instead.\n",
      "  warnings.warn(\n",
      "/home/vnandak/myenv/lib/python3.8/site-packages/torchvision/models/_utils.py:223: UserWarning: Arguments other than a weight enum or `None` for 'weights' are deprecated since 0.13 and may be removed in the future. The current behavior is equivalent to passing `weights=ResNet18_Weights.IMAGENET1K_V1`. You can also use `weights=ResNet18_Weights.DEFAULT` to get the most up-to-date weights.\n",
      "  warnings.warn(msg)\n",
      "Training Progress for PCA 15: 100%|██████████| 120/120 [10:00<00:00,  5.00s/epoch]\n",
      "/home/vnandak/myenv/lib/python3.8/site-packages/torchvision/models/_utils.py:208: UserWarning: The parameter 'pretrained' is deprecated since 0.13 and may be removed in the future, please use 'weights' instead.\n",
      "  warnings.warn(\n",
      "/home/vnandak/myenv/lib/python3.8/site-packages/torchvision/models/_utils.py:223: UserWarning: Arguments other than a weight enum or `None` for 'weights' are deprecated since 0.13 and may be removed in the future. The current behavior is equivalent to passing `weights=ResNet18_Weights.IMAGENET1K_V1`. You can also use `weights=ResNet18_Weights.DEFAULT` to get the most up-to-date weights.\n",
      "  warnings.warn(msg)\n"
     ]
    },
    {
     "name": "stdout",
     "output_type": "stream",
     "text": [
      "\n",
      "Fold 2/5\n"
     ]
    },
    {
     "name": "stderr",
     "output_type": "stream",
     "text": [
      "Training Progress for PCA 15: 100%|██████████| 120/120 [09:59<00:00,  5.00s/epoch]\n",
      "/home/vnandak/myenv/lib/python3.8/site-packages/torchvision/models/_utils.py:208: UserWarning: The parameter 'pretrained' is deprecated since 0.13 and may be removed in the future, please use 'weights' instead.\n",
      "  warnings.warn(\n",
      "/home/vnandak/myenv/lib/python3.8/site-packages/torchvision/models/_utils.py:223: UserWarning: Arguments other than a weight enum or `None` for 'weights' are deprecated since 0.13 and may be removed in the future. The current behavior is equivalent to passing `weights=ResNet18_Weights.IMAGENET1K_V1`. You can also use `weights=ResNet18_Weights.DEFAULT` to get the most up-to-date weights.\n",
      "  warnings.warn(msg)\n"
     ]
    },
    {
     "name": "stdout",
     "output_type": "stream",
     "text": [
      "\n",
      "Fold 3/5\n"
     ]
    },
    {
     "name": "stderr",
     "output_type": "stream",
     "text": [
      "Training Progress for PCA 15: 100%|██████████| 120/120 [09:59<00:00,  4.99s/epoch]\n",
      "/home/vnandak/myenv/lib/python3.8/site-packages/torchvision/models/_utils.py:208: UserWarning: The parameter 'pretrained' is deprecated since 0.13 and may be removed in the future, please use 'weights' instead.\n",
      "  warnings.warn(\n",
      "/home/vnandak/myenv/lib/python3.8/site-packages/torchvision/models/_utils.py:223: UserWarning: Arguments other than a weight enum or `None` for 'weights' are deprecated since 0.13 and may be removed in the future. The current behavior is equivalent to passing `weights=ResNet18_Weights.IMAGENET1K_V1`. You can also use `weights=ResNet18_Weights.DEFAULT` to get the most up-to-date weights.\n",
      "  warnings.warn(msg)\n"
     ]
    },
    {
     "name": "stdout",
     "output_type": "stream",
     "text": [
      "\n",
      "Fold 4/5\n"
     ]
    },
    {
     "name": "stderr",
     "output_type": "stream",
     "text": [
      "Training Progress for PCA 15: 100%|██████████| 120/120 [09:59<00:00,  5.00s/epoch]\n",
      "/home/vnandak/myenv/lib/python3.8/site-packages/torchvision/models/_utils.py:208: UserWarning: The parameter 'pretrained' is deprecated since 0.13 and may be removed in the future, please use 'weights' instead.\n",
      "  warnings.warn(\n",
      "/home/vnandak/myenv/lib/python3.8/site-packages/torchvision/models/_utils.py:223: UserWarning: Arguments other than a weight enum or `None` for 'weights' are deprecated since 0.13 and may be removed in the future. The current behavior is equivalent to passing `weights=ResNet18_Weights.IMAGENET1K_V1`. You can also use `weights=ResNet18_Weights.DEFAULT` to get the most up-to-date weights.\n",
      "  warnings.warn(msg)\n"
     ]
    },
    {
     "name": "stdout",
     "output_type": "stream",
     "text": [
      "\n",
      "Fold 5/5\n"
     ]
    },
    {
     "name": "stderr",
     "output_type": "stream",
     "text": [
      "Training Progress for PCA 15: 100%|██████████| 120/120 [09:59<00:00,  4.99s/epoch]\n"
     ]
    },
    {
     "name": "stdout",
     "output_type": "stream",
     "text": [
      "\n",
      "Average Metrics for PCA 15: {'accuracy': 0.911611876988335, 'precision': 0.9075419699594647, 'recall': 0.9120345794167891, 'f1': 0.9095886777253362, 'roc_auc': 0.9111834811434495}\n",
      "\n",
      "Evaluating PCA with 16 components...\n",
      "\n",
      "Fold 1/5\n"
     ]
    },
    {
     "name": "stderr",
     "output_type": "stream",
     "text": [
      "/home/vnandak/myenv/lib/python3.8/site-packages/torchvision/models/_utils.py:208: UserWarning: The parameter 'pretrained' is deprecated since 0.13 and may be removed in the future, please use 'weights' instead.\n",
      "  warnings.warn(\n",
      "/home/vnandak/myenv/lib/python3.8/site-packages/torchvision/models/_utils.py:223: UserWarning: Arguments other than a weight enum or `None` for 'weights' are deprecated since 0.13 and may be removed in the future. The current behavior is equivalent to passing `weights=ResNet18_Weights.IMAGENET1K_V1`. You can also use `weights=ResNet18_Weights.DEFAULT` to get the most up-to-date weights.\n",
      "  warnings.warn(msg)\n",
      "Training Progress for PCA 16:  50%|█████     | 60/120 [05:00<04:59,  5.00s/epoch]"
     ]
    }
   ],
   "source": [
    "from sklearn.decomposition import PCA\n",
    "from sklearn.model_selection import KFold\n",
    "from sklearn.metrics import accuracy_score, precision_score, recall_score, f1_score, roc_auc_score\n",
    "import numpy as np\n",
    "import torch\n",
    "from torch.utils.data import Dataset, DataLoader\n",
    "import torch.nn as nn\n",
    "import torch.optim as optim\n",
    "from tqdm import tqdm\n",
    "from resnet18Model import CSIModelWithResNet\n",
    "\n",
    "# Prepare data\n",
    "X_text = np.stack(merged_df['text_embeddings'].values)\n",
    "X_user = merged_df[['friends_count', 'followers_count', 'bi_followers_count']].values\n",
    "y = (merged_df['label']).astype(int).values  # Convert labels to binary\n",
    "\n",
    "# Custom Dataset class\n",
    "class CSIDataset(Dataset):\n",
    "    def __init__(self, text_data, user_data, labels):\n",
    "        self.text_data = text_data\n",
    "        self.user_data = user_data\n",
    "        self.labels = labels\n",
    "\n",
    "    def __len__(self):\n",
    "        return len(self.labels)\n",
    "\n",
    "    def __getitem__(self, idx):\n",
    "        text = torch.tensor(self.text_data[idx], dtype=torch.float32)\n",
    "        user = torch.tensor(self.user_data[idx], dtype=torch.float32)\n",
    "        label = torch.tensor(self.labels[idx], dtype=torch.float32)\n",
    "        return text, user, label\n",
    "\n",
    "# Device Configuration\n",
    "device = torch.device(\"cuda\" if torch.cuda.is_available() else \"cpu\")\n",
    "print(device)\n",
    "\n",
    "# Hyperparameters\n",
    "user_feature_dim = X_user.shape[1]\n",
    "lstm_hidden_dim = 32\n",
    "fc_hidden_dim = 16\n",
    "learning_rate = 0.001\n",
    "num_epochs = 120\n",
    "k_folds = 5\n",
    "batch_size = 32\n",
    "\n",
    "# K-Fold Cross-Validation\n",
    "kf = KFold(n_splits=k_folds, shuffle=True, random_state=32)\n",
    "\n",
    "# Loss function\n",
    "criterion = nn.BCELoss()\n",
    "\n",
    "# Store results for each PCA value\n",
    "pca_results = []\n",
    "\n",
    "# Range of PCA components to evaluate\n",
    "pca_values = range(2, 21)\n",
    "\n",
    "for n_components in pca_values:\n",
    "    print(f\"\\nEvaluating PCA with {n_components} components...\")\n",
    "    \n",
    "    # Apply PCA to reduce dimensions of text embeddings\n",
    "    pca = PCA(n_components=n_components)\n",
    "    X_text_pca = pca.fit_transform(X_text)\n",
    "    \n",
    "    # Store fold metrics\n",
    "    fold_metrics = []\n",
    "    for fold, (train_idx, val_idx) in enumerate(kf.split(X_text_pca)):\n",
    "        print(f\"\\nFold {fold + 1}/{k_folds}\")\n",
    "\n",
    "        # Split data into training and validation sets\n",
    "        train_text = X_text_pca[train_idx]\n",
    "        train_user = X_user[train_idx]\n",
    "        train_labels = y[train_idx]\n",
    "\n",
    "        val_text = X_text_pca[val_idx]\n",
    "        val_user = X_user[val_idx]\n",
    "        val_labels = y[val_idx]\n",
    "\n",
    "        # Create DataLoaders for training and validation sets\n",
    "        train_dataset = CSIDataset(train_text, train_user, train_labels)\n",
    "        val_dataset = CSIDataset(val_text, val_user, val_labels)\n",
    "\n",
    "        train_loader = DataLoader(train_dataset, batch_size=batch_size, shuffle=True)\n",
    "        val_loader = DataLoader(val_dataset, batch_size=batch_size, shuffle=False)\n",
    "\n",
    "        # Initialize the model\n",
    "        model = CSIModelWithResNet(n_components, user_feature_dim, lstm_hidden_dim, fc_hidden_dim)\n",
    "        model.to(device)\n",
    "\n",
    "        # Optimizer\n",
    "        optimizer = optim.AdamW(model.parameters(), lr=learning_rate, weight_decay=1e-5)\n",
    "\n",
    "        # Training and Validation\n",
    "        for epoch in tqdm(range(1, num_epochs + 1), desc=f\"Training Progress for PCA {n_components}\", unit=\"epoch\"):\n",
    "            model.train()\n",
    "            for text_batch, user_batch, labels_batch in train_loader:\n",
    "                text_batch = text_batch.unsqueeze(1)\n",
    "                text_batch, user_batch, labels_batch = (\n",
    "                    text_batch.to(device),\n",
    "                    user_batch.to(device),\n",
    "                    labels_batch.to(device),\n",
    "                )\n",
    "\n",
    "                optimizer.zero_grad()\n",
    "                outputs = model(text_batch, user_batch).squeeze()\n",
    "                loss = criterion(outputs, labels_batch)\n",
    "                loss.backward()\n",
    "                optimizer.step()\n",
    "\n",
    "        # Validation\n",
    "        model.eval()\n",
    "        val_labels_list = []\n",
    "        val_preds_list = []\n",
    "        with torch.no_grad():\n",
    "            for text_batch, user_batch, labels_batch in val_loader:\n",
    "                text_batch = text_batch.unsqueeze(1)\n",
    "                text_batch, user_batch, labels_batch = (\n",
    "                    text_batch.to(device),\n",
    "                    user_batch.to(device),\n",
    "                    labels_batch.to(device),\n",
    "                )\n",
    "                outputs = model(text_batch, user_batch).squeeze()\n",
    "                val_labels_list.extend(labels_batch.cpu().numpy())\n",
    "                val_preds_list.extend((outputs > 0.5).cpu().numpy())\n",
    "\n",
    "        # Calculate metrics for the fold\n",
    "        accuracy = accuracy_score(val_labels_list, val_preds_list)\n",
    "        precision = precision_score(val_labels_list, val_preds_list)\n",
    "        recall = recall_score(val_labels_list, val_preds_list)\n",
    "        f1 = f1_score(val_labels_list, val_preds_list)\n",
    "        roc_auc = roc_auc_score(val_labels_list, val_preds_list)\n",
    "\n",
    "        fold_metrics.append({\n",
    "            \"accuracy\": accuracy,\n",
    "            \"precision\": precision,\n",
    "            \"recall\": recall,\n",
    "            \"f1\": f1,\n",
    "            \"roc_auc\": roc_auc,\n",
    "        })\n",
    "\n",
    "    # Average metrics across folds for this PCA value\n",
    "    average_metrics = {\n",
    "        key: np.mean([fold[key] for fold in fold_metrics])\n",
    "        for key in fold_metrics[0]\n",
    "    }\n",
    "    print(f\"\\nAverage Metrics for PCA {n_components}: {average_metrics}\")\n",
    "    pca_results.append((n_components, average_metrics))\n",
    "\n",
    "# Identify the best PCA value based on F1 score\n",
    "best_pca_value = max(pca_results, key=lambda x: x[1]['f1'])\n",
    "print(f\"\\nBest PCA value: {best_pca_value[0]} with metrics: {best_pca_value[1]}\")\n",
    "\n",
    "# Plot metrics for each PCA value\n",
    "f1_scores = [result[1]['f1'] for result in pca_results]\n",
    "plt.figure(figsize=(8, 6))\n",
    "plt.plot(pca_values, f1_scores, marker='o', label=\"F1 Score\")\n",
    "plt.xlabel(\"Number of PCA Components\")\n",
    "plt.ylabel(\"F1 Score\")\n",
    "plt.title(\"F1 Score vs. Number of PCA Components\")\n",
    "plt.legend()\n",
    "plt.show()\n"
   ]
  },
  {
   "cell_type": "code",
   "execution_count": null,
   "metadata": {},
   "outputs": [
    {
     "name": "stdout",
     "output_type": "stream",
     "text": [
      "\n",
      "Class Distribution in Fold 3:\n",
      "Class 0: 472 samples (50.05%)\n",
      "Class 1: 471 samples (49.95%)\n"
     ]
    },
    {
     "data": {
      "image/png": "[encoded data removed]",
      "text/plain": [
       "<Figure size 800x600 with 2 Axes>"
      ]
     },
     "metadata": {},
     "output_type": "display_data"
    }
   ],
   "source": [
    "from sklearn.decomposition import PCA\n",
    "import matplotlib.pyplot as plt\n",
    "from collections import Counter\n",
    "import numpy as np\n",
    "\n",
    "# Extract Fold 3 data\n",
    "fold_3_text = X_text_pca[val_idx]  # Text embeddings for Fold 3\n",
    "fold_3_user = X_user[val_idx]  # User features for Fold 3\n",
    "fold_3_labels = y[val_idx]  # Labels for Fold 3\n",
    "\n",
    "# Check class distribution\n",
    "class_distribution = Counter(fold_3_labels)\n",
    "total_samples = len(fold_3_labels)\n",
    "\n",
    "print(\"\\nClass Distribution in Fold 3:\")\n",
    "for cls, count in class_distribution.items():\n",
    "    print(f\"Class {cls}: {count} samples ({(count / total_samples) * 100:.2f}%)\")\n",
    "\n",
    "# Visualize Fold 3 outliers using PCA\n",
    "pca_fold_3 = PCA(n_components=2)\n",
    "reduced_features = pca_fold_3.fit_transform(fold_3_text)\n",
    "\n",
    "plt.figure(figsize=(8, 6))\n",
    "plt.scatter(reduced_features[:, 0], reduced_features[:, 1], c=fold_3_labels, cmap='viridis', alpha=0.7)\n",
    "plt.colorbar(label=\"Class Labels\")\n",
    "plt.title(\"PCA Projection of Fold 3 Features\")\n",
    "plt.xlabel(\"Principal Component 1\")\n",
    "plt.ylabel(\"Principal Component 2\")\n",
    "plt.show()\n",
    "\n"
   ]
  },
  {
   "cell_type": "code",
   "execution_count": null,
   "metadata": {},
   "outputs": [
    {
     "name": "stdout",
     "output_type": "stream",
     "text": [
      "\n",
      "Cumulative Explained Variance by PCA Components:\n",
      "Component 1: 45.80%\n",
      "Component 2: 70.14%\n",
      "Component 3: 84.68%\n",
      "Component 4: 91.09%\n",
      "Component 5: 94.33%\n",
      "Component 6: 95.68%\n",
      "Component 7: 96.63%\n",
      "Component 8: 97.29%\n",
      "Component 9: 97.83%\n",
      "Component 10: 98.26%\n",
      "Component 11: 98.57%\n",
      "Component 12: 98.72%\n",
      "Component 13: 98.84%\n",
      "Component 14: 98.96%\n",
      "Component 15: 99.05%\n",
      "Component 16: 99.14%\n",
      "Component 17: 99.20%\n",
      "Component 18: 99.27%\n",
      "Component 19: 99.32%\n",
      "Component 20: 99.36%\n",
      "Component 21: 99.40%\n",
      "Component 22: 99.43%\n",
      "Component 23: 99.47%\n",
      "Component 24: 99.49%\n",
      "Component 25: 99.52%\n",
      "Component 26: 99.54%\n",
      "Component 27: 99.57%\n",
      "Component 28: 99.59%\n",
      "Component 29: 99.61%\n",
      "Component 30: 99.62%\n",
      "Component 31: 99.64%\n",
      "Component 32: 99.66%\n",
      "Component 33: 99.67%\n",
      "Component 34: 99.69%\n",
      "Component 35: 99.70%\n",
      "Component 36: 99.71%\n",
      "Component 37: 99.72%\n",
      "Component 38: 99.73%\n",
      "Component 39: 99.74%\n",
      "Component 40: 99.75%\n",
      "Component 41: 99.76%\n",
      "Component 42: 99.77%\n",
      "Component 43: 99.77%\n",
      "Component 44: 99.78%\n",
      "Component 45: 99.79%\n",
      "Component 46: 99.80%\n",
      "Component 47: 99.80%\n",
      "Component 48: 99.81%\n",
      "Component 49: 99.81%\n",
      "Component 50: 99.82%\n",
      "Component 51: 99.83%\n",
      "Component 52: 99.83%\n",
      "Component 53: 99.84%\n",
      "Component 54: 99.84%\n",
      "Component 55: 99.85%\n",
      "Component 56: 99.85%\n",
      "Component 57: 99.86%\n",
      "Component 58: 99.86%\n",
      "Component 59: 99.87%\n",
      "Component 60: 99.87%\n",
      "Component 61: 99.88%\n",
      "Component 62: 99.88%\n",
      "Component 63: 99.88%\n",
      "Component 64: 99.89%\n",
      "Component 65: 99.89%\n",
      "Component 66: 99.90%\n",
      "Component 67: 99.90%\n",
      "Component 68: 99.90%\n",
      "Component 69: 99.91%\n",
      "Component 70: 99.91%\n",
      "Component 71: 99.92%\n",
      "Component 72: 99.92%\n",
      "Component 73: 99.92%\n",
      "Component 74: 99.93%\n",
      "Component 75: 99.93%\n",
      "Component 76: 99.93%\n",
      "Component 77: 99.94%\n",
      "Component 78: 99.94%\n",
      "Component 79: 99.94%\n",
      "Component 80: 99.94%\n",
      "Component 81: 99.95%\n",
      "Component 82: 99.95%\n",
      "Component 83: 99.95%\n",
      "Component 84: 99.96%\n",
      "Component 85: 99.96%\n",
      "Component 86: 99.96%\n",
      "Component 87: 99.97%\n",
      "Component 88: 99.97%\n",
      "Component 89: 99.97%\n",
      "Component 90: 99.97%\n",
      "Component 91: 99.98%\n",
      "Component 92: 99.98%\n",
      "Component 93: 99.98%\n",
      "Component 94: 99.99%\n",
      "Component 95: 99.99%\n",
      "Component 96: 99.99%\n",
      "Component 97: 99.99%\n",
      "Component 98: 100.00%\n",
      "Component 99: 100.00%\n",
      "Component 100: 100.00%\n"
     ]
    },
    {
     "data": {
      "image/png": "[encoded data removed]",
      "text/plain": [
       "<Figure size 800x600 with 1 Axes>"
      ]
     },
     "metadata": {},
     "output_type": "display_data"
    },
    {
     "name": "stdout",
     "output_type": "stream",
     "text": [
      "\n",
      "Optimal Number of PCA Components for 95% Variance: 6\n"
     ]
    }
   ],
   "source": [
    "# Analyze Variance Explained by PCA Components\n",
    "pca_full = PCA(n_components=X_text.shape[1])  # Use all components from the original dataset\n",
    "pca_full.fit(X_text)\n",
    "\n",
    "explained_variance = np.cumsum(pca_full.explained_variance_ratio_) * 100\n",
    "\n",
    "print(\"\\nCumulative Explained Variance by PCA Components:\")\n",
    "for i, variance in enumerate(explained_variance):\n",
    "    print(f\"Component {i + 1}: {variance:.2f}%\")\n",
    "\n",
    "# Plot cumulative explained variance\n",
    "plt.figure(figsize=(8, 6))\n",
    "plt.plot(range(1, len(explained_variance) + 1), explained_variance, marker='o', linestyle='--')\n",
    "plt.title(\"Cumulative Explained Variance by PCA Components\")\n",
    "plt.xlabel(\"Number of Components\")\n",
    "plt.ylabel(\"Cumulative Explained Variance (%)\")\n",
    "plt.axhline(y=95, color='r', linestyle='--', label=\"95% Variance Explained\")\n",
    "plt.legend()\n",
    "plt.grid()\n",
    "plt.show()\n",
    "\n",
    "# Adjust PCA components if less than desired variance is explained\n",
    "desired_variance = 95  # Target percentage of variance\n",
    "optimal_components = np.argmax(explained_variance >= desired_variance) + 1\n",
    "print(f\"\\nOptimal Number of PCA Components for {desired_variance}% Variance: {optimal_components}\")\n",
    "\n",
    "# Re-apply PCA with optimal components\n",
    "pca_adjusted = PCA(n_components=optimal_components)\n",
    "X_text_pca_adjusted = pca_adjusted.fit_transform(X_text)\n"
   ]
  },
  {
   "cell_type": "code",
   "execution_count": null,
   "metadata": {},
   "outputs": [
    {
     "data": {
      "image/png": "[encoded data removed]",
      "text/plain": [
       "<Figure size 1000x600 with 1 Axes>"
      ]
     },
     "metadata": {},
     "output_type": "display_data"
    }
   ],
   "source": [
    "# Plot losses\n",
    "import matplotlib.pyplot as plt\n",
    "\n",
    "plt.figure(figsize=(10, 6))\n",
    "plt.plot(range(1, num_epochs + 1), training_losses, label='Training Loss', color='blue')\n",
    "plt.plot(range(1, num_epochs + 1), validation_losses, label='Validation Loss', color='orange')\n",
    "plt.xlabel('Epochs')\n",
    "plt.ylabel('Loss')\n",
    "plt.title('Training and Validation Loss Over Epochs')\n",
    "plt.legend()\n",
    "plt.grid(True)\n",
    "\n",
    "# Save the plot to a file\n",
    "plt.savefig('training_validation_loss.png', dpi=300, bbox_inches='tight')\n",
    "\n",
    "# Show the plot\n",
    "plt.show()"
   ]
  },
  {
   "cell_type": "code",
   "execution_count": null,
   "metadata": {},
   "outputs": [],
   "source": []
  }
 ],
 "metadata": {
  "kernelspec": {
   "display_name": "myenv",
   "language": "python",
   "name": "python3"
  },
  "language_info": {
   "codemirror_mode": {
    "name": "ipython",
    "version": 3
   },
   "file_extension": ".py",
   "mimetype": "text/x-python",
   "name": "python",
   "nbconvert_exporter": "python",
   "pygments_lexer": "ipython3",
   "version": "3.8.6"
  }
 },
 "nbformat": 4,
 "nbformat_minor": 2
}
