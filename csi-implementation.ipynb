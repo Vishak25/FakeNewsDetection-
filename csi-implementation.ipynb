{
 "cells": [
  {
   "cell_type": "code",
   "execution_count": 2,
   "id": "907eb7ef7ce2fde4",
   "metadata": {
    "ExecuteTime": {
     "end_time": "2024-11-17T23:52:24.460801Z",
     "start_time": "2024-11-17T23:52:24.451073Z"
    },
    "collapsed": false
   },
   "outputs": [],
   "source": [
    "import pandas as pd"
   ]
  },
  {
   "cell_type": "markdown",
   "id": "69aac1d9d1467fbd",
   "metadata": {
    "collapsed": false
   },
   "source": []
  },
  {
   "cell_type": "code",
   "execution_count": 28,
   "id": "43106a292c0131e7",
   "metadata": {
    "ExecuteTime": {
     "end_time": "2024-11-17T23:52:26.882155Z",
     "start_time": "2024-11-17T23:52:24.479381Z"
    },
    "collapsed": false
   },
   "outputs": [],
   "source": [
    "# posts_df\n",
    "# Data columns (total 9 columns):\n",
    "# #   Column            Dtype \n",
    "# ---  ------            -----\n",
    "# 0   post_id           object\n",
    "# 1   thread_id         object\n",
    "# 2   user_id           int64\n",
    "# 3   text              object\n",
    "# 4   reposts_count     int64\n",
    "# 5   likes_count       int64\n",
    "# 6   comments_count    int64\n",
    "# 7   parent_thread_id  object\n",
    "# 8   timestamp         int64\n",
    "\n",
    "\n",
    "# unique_users_df\n",
    "# Data columns (total 7 columns):\n",
    "# #   Column              Dtype \n",
    "# ---  ------              -----\n",
    "# 0   user_id             int64\n",
    "# 1   username            object\n",
    "# 2   friends_count       int64\n",
    "# 3   followers_count     int64\n",
    "# 4   bi_followers_count  int64\n",
    "# 5   user_created_at     int64\n",
    "# 6   last_activity       int64 \n",
    "users_df = pd.read_csv(\"../../dataset_zip/weibo_users_df.csv\")\n",
    "\n",
    "# labelled_posts_df\n",
    "# Data columns (total 11 columns):\n",
    "# #   Column            Non-Null Count  Dtype \n",
    "# ---  ------            --------------  -----\n",
    "# 0   post_id           4718 non-null   object\n",
    "# 1   label             4718 non-null   object\n",
    "# 2   children          4718 non-null   object\n",
    "# 3   thread_id         4718 non-null   object\n",
    "# 4   user_id           4718 non-null   int64\n",
    "# 5   text              4718 non-null   object\n",
    "# 6   reposts_count     4718 non-null   int64\n",
    "# 7   likes_count       4718 non-null   int64\n",
    "# 8   comments_count    4718 non-null   int64\n",
    "# 9   parent_thread_id  54 non-null     object\n",
    "# 10  timestamp         4718 non-null   int64 \n",
    "posts_df = pd.read_csv(\"../../dataset_zip/weibo_posts_merged_df.csv\")\n"
   ]
  },
  {
   "cell_type": "code",
   "execution_count": 29,
   "id": "58a2a96202ebda2",
   "metadata": {
    "ExecuteTime": {
     "end_time": "2024-11-17T23:52:26.887325Z",
     "start_time": "2024-11-17T23:52:26.883603Z"
    },
    "collapsed": false
   },
   "outputs": [],
   "source": [
    "import re\n",
    "import jieba\n",
    "\n",
    "def clean_text(text):\n",
    "    # Remove non-Chinese characters (keep Chinese, numbers, and basic punctuation)\n",
    "    text = re.sub(r\"[^\\u4e00-\\u9fffA-Za-z0-9,，.!?！？]\", \"\", text)\n",
    "    # Normalize spaces\n",
    "    text = re.sub(r\"\\s+\", \" \", text).strip()\n",
    "    return text\n",
    "\n",
    "def segment_text(text):\n",
    "    # Segment text using jieba\n",
    "    words = jieba.lcut(text)\n",
    "    # Join words back with spaces (useful for embeddings)\n",
    "    return ' '.join(words)\n",
    "\n",
    "# Load a list of Chinese stop words\n",
    "with open('../../dataset_zip/cn_stopwords.txt', encoding='utf-8') as f:\n",
    "    stopwords = set(f.read().splitlines())\n",
    "\n",
    "def remove_stopwords(text):\n",
    "    words = text.split()\n",
    "    filtered_words = [word for word in words if word not in stopwords]\n",
    "    return ' '.join(filtered_words)"
   ]
  },
  {
   "cell_type": "code",
   "execution_count": 30,
   "id": "c3f4348b001e4b25",
   "metadata": {
    "ExecuteTime": {
     "end_time": "2024-11-17T23:52:27.863936Z",
     "start_time": "2024-11-17T23:52:26.887812Z"
    },
    "collapsed": false
   },
   "outputs": [],
   "source": [
    "posts_df['cleaned_text'] = posts_df['text'].fillna(\"\").apply(clean_text)\n",
    "posts_df['segmented_text'] = posts_df['cleaned_text'].apply(segment_text)\n",
    "posts_df['final_text'] = posts_df['segmented_text'].apply(remove_stopwords)"
   ]
  },
  {
   "cell_type": "code",
   "execution_count": 31,
   "id": "3298c0d941e2126d",
   "metadata": {
    "ExecuteTime": {
     "end_time": "2024-11-17T23:52:31.118988Z",
     "start_time": "2024-11-17T23:52:27.865198Z"
    },
    "collapsed": false
   },
   "outputs": [],
   "source": [
    "from gensim.models import Doc2Vec\n",
    "from gensim.models.doc2vec import TaggedDocument\n",
    "\n",
    "# Prepare tagged documents\n",
    "documents = [TaggedDocument(words=text.split(), tags=[i]) for i, text in enumerate(posts_df['final_text'])]\n",
    "# Train the Doc2Vec model\n",
    "model = Doc2Vec(documents, vector_size=100, window=5, min_count=2, workers=4)\n",
    "\n",
    "# Add embeddings to the DataFrame\n",
    "posts_df['text_embeddings'] = posts_df['final_text'].apply(lambda x: model.infer_vector(x.split()))\n"
   ]
  },
  {
   "cell_type": "code",
   "execution_count": 32,
   "id": "125b155b56cda3a8",
   "metadata": {
    "ExecuteTime": {
     "end_time": "2024-11-17T23:52:31.198305Z",
     "start_time": "2024-11-17T23:52:31.119586Z"
    },
    "collapsed": false
   },
   "outputs": [],
   "source": [
    "from sklearn.preprocessing import MinMaxScaler\n",
    "import pandas as pd\n",
    "\n",
    "# Normalize engagement counts\n",
    "scaler = MinMaxScaler()\n",
    "posts_df[['reposts_count', 'likes_count', 'comments_count']] = scaler.fit_transform(\n",
    "    posts_df[['reposts_count', 'likes_count', 'comments_count']]\n",
    ")\n",
    "\n",
    "# Extract time features\n",
    "posts_df['hour'] = pd.to_datetime(posts_df['timestamp'], unit='s').dt.hour\n",
    "posts_df['day'] = pd.to_datetime(posts_df['timestamp'], unit='s').dt.day\n",
    "posts_df['month'] = pd.to_datetime(posts_df['timestamp'], unit='s').dt.month"
   ]
  },
  {
   "cell_type": "code",
   "execution_count": 34,
   "id": "b651a98c4e33eb89",
   "metadata": {
    "ExecuteTime": {
     "end_time": "2024-11-17T23:52:31.262066Z",
     "start_time": "2024-11-17T23:52:31.198867Z"
    },
    "collapsed": false
   },
   "outputs": [],
   "source": [
    "users_df[['friends_count', 'followers_count', 'bi_followers_count']] = scaler.fit_transform(\n",
    "    users_df[['friends_count', 'followers_count', 'bi_followers_count']]\n",
    ")\n"
   ]
  },
  {
   "cell_type": "code",
   "execution_count": 35,
   "id": "1eb58f6d1943232f",
   "metadata": {
    "ExecuteTime": {
     "end_time": "2024-11-17T23:52:31.556860Z",
     "start_time": "2024-11-17T23:52:31.262639Z"
    },
    "collapsed": false
   },
   "outputs": [],
   "source": [
    "merged_df = posts_df.merge(users_df, on='user_id', how='left')\n"
   ]
  },
  {
   "cell_type": "code",
   "execution_count": 36,
   "id": "dfee93a7175d8421",
   "metadata": {
    "ExecuteTime": {
     "end_time": "2024-11-17T23:52:31.606735Z",
     "start_time": "2024-11-17T23:52:31.557435Z"
    },
    "collapsed": false
   },
   "outputs": [],
   "source": [
    "from sklearn.model_selection import train_test_split\n",
    "import numpy as np\n",
    "\n",
    "X_text = np.stack(merged_df['text_embeddings'].values)\n",
    "X_user = merged_df[['friends_count', 'followers_count', 'bi_followers_count']].values\n",
    "y = (merged_df['label']).astype(int).values  # Convert labels to binary\n",
    "\n",
    "# Split data\n",
    "X_text_train, X_text_test, X_user_train, X_user_test, y_train, y_test = train_test_split(\n",
    "    X_text, X_user, y, test_size=0.2, random_state=42\n",
    ")\n"
   ]
  },
  {
   "cell_type": "code",
   "execution_count": 37,
   "id": "e8decc02954ce3b5",
   "metadata": {
    "ExecuteTime": {
     "end_time": "2024-11-17T23:52:32.264160Z",
     "start_time": "2024-11-17T23:52:31.607271Z"
    },
    "collapsed": false
   },
   "outputs": [],
   "source": [
    "from torch.utils.data import Dataset, DataLoader\n",
    "\n",
    "# Custom Dataset class\n",
    "class CSIDataset(Dataset):\n",
    "    def __init__(self, text_data, user_data, labels):\n",
    "        self.text_data = text_data\n",
    "        self.user_data = user_data\n",
    "        self.labels = labels\n",
    "\n",
    "    def __len__(self):\n",
    "        return len(self.labels)\n",
    "\n",
    "    def __getitem__(self, idx):\n",
    "        text = torch.tensor(self.text_data[idx], dtype=torch.float32)\n",
    "        user = torch.tensor(self.user_data[idx], dtype=torch.float32)\n",
    "        label = torch.tensor(self.labels[idx], dtype=torch.float32)\n",
    "        return text, user, label\n",
    "\n",
    "# Create DataLoaders\n",
    "train_dataset = CSIDataset(X_text_train, X_user_train, y_train)\n",
    "test_dataset = CSIDataset(X_text_test, X_user_test, y_test)\n",
    "\n",
    "train_loader = DataLoader(train_dataset, batch_size=32, shuffle=True)\n",
    "test_loader = DataLoader(test_dataset, batch_size=32, shuffle=False)\n"
   ]
  },
  {
   "cell_type": "code",
   "execution_count": 38,
   "id": "98dcbaf279a8248f",
   "metadata": {
    "ExecuteTime": {
     "end_time": "2024-11-17T23:52:51.663386Z",
     "start_time": "2024-11-17T23:52:32.265759Z"
    },
    "collapsed": false
   },
   "outputs": [
    {
     "name": "stderr",
     "output_type": "stream",
     "text": [
      "Training Progress: 100%|██████████| 135/135 [00:38<00:00,  3.46epoch/s]\n"
     ]
    }
   ],
   "source": [
    "from model import CSIModel\n",
    "from tqdm import tqdm\n",
    "import torch.nn as nn\n",
    "import torch.optim as optim\n",
    "import torch\n",
    "import matplotlib.pyplot as plt\n",
    "\n",
    "# Hyperparameters\n",
    "text_embedding_dim = X_text.shape[1]\n",
    "user_feature_dim = X_user.shape[1]\n",
    "lstm_hidden_dim = 32\n",
    "fc_hidden_dim = 16\n",
    "learning_rate = 0.001\n",
    "num_epochs = 135\n",
    "\n",
    "# Initialize the model\n",
    "model = CSIModel(text_embedding_dim, user_feature_dim, lstm_hidden_dim, fc_hidden_dim)\n",
    "\n",
    "# Loss function and optimizer\n",
    "criterion = nn.BCELoss()  # Binary Cross-Entropy Loss\n",
    "optimizer = optim.Adam(model.parameters(), lr=0.001, weight_decay=1e-5)\n",
    "\n",
    "# # Training loop\n",
    "\n",
    "\n",
    "training_losses = []\n",
    "validation_losses = []\n",
    "\n",
    "for epoch in tqdm(range(1, num_epochs + 1), desc=\"Training Progress\", unit=\"epoch\"):\n",
    "    model.train()\n",
    "    total_train_loss = 0\n",
    "\n",
    "    # Training Loop\n",
    "    for text_batch, user_batch, labels_batch in train_loader:\n",
    "        text_batch = text_batch.unsqueeze(1)  # Add sequence dimension\n",
    "        optimizer.zero_grad()\n",
    "\n",
    "        # Forward pass\n",
    "        outputs = model(text_batch, user_batch).squeeze()\n",
    "        loss = criterion(outputs, labels_batch)\n",
    "\n",
    "        # Backward pass and optimization\n",
    "        loss.backward()\n",
    "        optimizer.step()\n",
    "\n",
    "        total_train_loss += loss.item()\n",
    "\n",
    "    # Record average training loss\n",
    "    average_train_loss = total_train_loss / len(train_loader)\n",
    "    training_losses.append(average_train_loss)\n",
    "\n",
    "    # Validation Loop\n",
    "    model.eval()\n",
    "    total_val_loss = 0\n",
    "    with torch.no_grad():\n",
    "        for text_batch, user_batch, labels_batch in test_loader:\n",
    "            text_batch = text_batch.unsqueeze(1)\n",
    "            outputs = model(text_batch, user_batch).squeeze()\n",
    "            val_loss = criterion(outputs, labels_batch)\n",
    "            total_val_loss += val_loss.item()\n",
    "\n",
    "    # Record average validation loss\n",
    "    average_val_loss = total_val_loss / len(test_loader)\n",
    "    validation_losses.append(average_val_loss)\n",
    "\n",
    "    # Print losses every 50 epochs\n",
    "    if epoch % 200 == 0:\n",
    "        print(f\"Epoch {epoch}/{num_epochs} - Train Loss: {average_train_loss:.4f}, Val Loss: {average_val_loss:.4f}\")"
   ]
  },
  {
   "cell_type": "code",
   "execution_count": 39,
   "id": "9c2f624a820509c",
   "metadata": {
    "ExecuteTime": {
     "end_time": "2024-11-17T23:56:39.591551Z",
     "start_time": "2024-11-17T23:56:39.305959Z"
    },
    "collapsed": false
   },
   "outputs": [
    {
     "data": {
      "image/png": "[encoded data removed]",
      "text/plain": [
       "<Figure size 1000x600 with 1 Axes>"
      ]
     },
     "metadata": {},
     "output_type": "display_data"
    }
   ],
   "source": [
    "# Plot losses\n",
    "import matplotlib.pyplot as plt\n",
    "\n",
    "plt.figure(figsize=(10, 6))\n",
    "plt.plot(range(1, num_epochs + 1), training_losses, label='Training Loss', color='blue')\n",
    "plt.plot(range(1, num_epochs + 1), validation_losses, label='Validation Loss', color='orange')\n",
    "plt.xlabel('Epochs')\n",
    "plt.ylabel('Loss')\n",
    "plt.title('Training and Validation Loss Over Epochs')\n",
    "plt.legend()\n",
    "plt.grid(True)\n",
    "\n",
    "# Save the plot to a file\n",
    "plt.savefig('training_validation_loss.png', dpi=300, bbox_inches='tight')\n",
    "\n",
    "# Show the plot\n",
    "plt.show()\n"
   ]
  },
  {
   "cell_type": "code",
   "execution_count": 40,
   "id": "8626eaff44b9af0a",
   "metadata": {
    "ExecuteTime": {
     "end_time": "2024-11-17T23:54:33.622398Z",
     "start_time": "2024-11-17T23:54:33.580978Z"
    },
    "collapsed": false
   },
   "outputs": [
    {
     "name": "stdout",
     "output_type": "stream",
     "text": [
      "Test Loss: 0.2942\n",
      "Accuracy: 0.8686\n",
      "Precision: 0.8218\n",
      "Recall: 0.9326\n",
      "F1 Score: 0.8737\n"
     ]
    }
   ],
   "source": [
    "from sklearn.metrics import accuracy_score, precision_score, recall_score, f1_score\n",
    "\n",
    "model.eval()\n",
    "all_preds = []\n",
    "all_labels = []\n",
    "test_loss = 0.0\n",
    "\n",
    "with torch.no_grad():\n",
    "    for text_batch, user_batch, labels_batch in test_loader:\n",
    "        outputs = model(text_batch.unsqueeze(1), user_batch).squeeze()\n",
    "        loss = criterion(outputs, labels_batch.float())  # Compute the batch loss\n",
    "        test_loss += loss.item() * labels_batch.size(0)  # Accumulate total loss\n",
    "\n",
    "        preds = (outputs > 0.5).float()\n",
    "        all_preds.extend(preds.cpu().numpy())\n",
    "        all_labels.extend(labels_batch.cpu().numpy())\n",
    "\n",
    "# Calculate metrics\n",
    "accuracy = accuracy_score(all_labels, all_preds)\n",
    "precision = precision_score(all_labels, all_preds)\n",
    "recall = recall_score(all_labels, all_preds)\n",
    "f1 = f1_score(all_labels, all_preds)\n",
    "\n",
    "# Average loss over the dataset\n",
    "average_loss = test_loss / len(test_loader.dataset)\n",
    "\n",
    "# Print metrics\n",
    "print(f\"Test Loss: {average_loss:.4f}\")\n",
    "print(f\"Accuracy: {accuracy:.4f}\")\n",
    "print(f\"Precision: {precision:.4f}\")\n",
    "print(f\"Recall: {recall:.4f}\")\n",
    "print(f\"F1 Score: {f1:.4f}\")\n"
   ]
  },
  {
   "cell_type": "markdown",
   "id": "d96dff9d",
   "metadata": {},
   "source": [
    "K-FOLD "
   ]
  },
  {
   "cell_type": "code",
   "execution_count": 22,
   "id": "8ee2ba88",
   "metadata": {},
   "outputs": [
    {
     "name": "stdout",
     "output_type": "stream",
     "text": [
      "\n",
      "Fold 1/5\n"
     ]
    },
    {
     "name": "stderr",
     "output_type": "stream",
     "text": [
      "Training Progress:   0%|          | 0/50 [00:00<?, ?epoch/s]"
     ]
    },
    {
     "name": "stderr",
     "output_type": "stream",
     "text": [
      "Training Progress:  20%|██        | 10/50 [00:03<00:12,  3.17epoch/s]"
     ]
    },
    {
     "name": "stdout",
     "output_type": "stream",
     "text": [
      "Epoch 10/50 - Train Loss: 0.5892, Val Loss: 0.5642\n"
     ]
    },
    {
     "name": "stderr",
     "output_type": "stream",
     "text": [
      "Training Progress:  40%|████      | 20/50 [00:06<00:09,  3.20epoch/s]"
     ]
    },
    {
     "name": "stdout",
     "output_type": "stream",
     "text": [
      "Epoch 20/50 - Train Loss: 0.5436, Val Loss: 0.5224\n"
     ]
    },
    {
     "name": "stderr",
     "output_type": "stream",
     "text": [
      "Training Progress:  60%|██████    | 30/50 [00:09<00:06,  3.21epoch/s]"
     ]
    },
    {
     "name": "stdout",
     "output_type": "stream",
     "text": [
      "Epoch 30/50 - Train Loss: 0.4915, Val Loss: 0.4598\n"
     ]
    },
    {
     "name": "stderr",
     "output_type": "stream",
     "text": [
      "Training Progress:  80%|████████  | 40/50 [00:12<00:03,  3.23epoch/s]"
     ]
    },
    {
     "name": "stdout",
     "output_type": "stream",
     "text": [
      "Epoch 40/50 - Train Loss: 0.4315, Val Loss: 0.4114\n"
     ]
    },
    {
     "name": "stderr",
     "output_type": "stream",
     "text": [
      "Training Progress: 100%|██████████| 50/50 [00:15<00:00,  3.20epoch/s]\n"
     ]
    },
    {
     "name": "stdout",
     "output_type": "stream",
     "text": [
      "Epoch 50/50 - Train Loss: 0.3741, Val Loss: 0.3567\n",
      "Fold 1 Metrics - Precision: 0.8779, Recall: 0.8130, F1: 0.8442, ROC AUC: 0.8528\n",
      "\n",
      "Fold 2/5\n"
     ]
    },
    {
     "name": "stderr",
     "output_type": "stream",
     "text": [
      "Training Progress:  20%|██        | 10/50 [00:03<00:12,  3.19epoch/s]"
     ]
    },
    {
     "name": "stdout",
     "output_type": "stream",
     "text": [
      "Epoch 10/50 - Train Loss: 0.5801, Val Loss: 0.5931\n"
     ]
    },
    {
     "name": "stderr",
     "output_type": "stream",
     "text": [
      "Training Progress:  40%|████      | 20/50 [00:06<00:09,  3.21epoch/s]"
     ]
    },
    {
     "name": "stdout",
     "output_type": "stream",
     "text": [
      "Epoch 20/50 - Train Loss: 0.5207, Val Loss: 0.5163\n"
     ]
    },
    {
     "name": "stderr",
     "output_type": "stream",
     "text": [
      "Training Progress:  60%|██████    | 30/50 [00:09<00:06,  3.23epoch/s]"
     ]
    },
    {
     "name": "stdout",
     "output_type": "stream",
     "text": [
      "Epoch 30/50 - Train Loss: 0.4449, Val Loss: 0.4287\n"
     ]
    },
    {
     "name": "stderr",
     "output_type": "stream",
     "text": [
      "Training Progress:  80%|████████  | 40/50 [00:12<00:03,  3.21epoch/s]"
     ]
    },
    {
     "name": "stdout",
     "output_type": "stream",
     "text": [
      "Epoch 40/50 - Train Loss: 0.3850, Val Loss: 0.3722\n"
     ]
    },
    {
     "name": "stderr",
     "output_type": "stream",
     "text": [
      "Training Progress: 100%|██████████| 50/50 [00:15<00:00,  3.21epoch/s]\n"
     ]
    },
    {
     "name": "stdout",
     "output_type": "stream",
     "text": [
      "Epoch 50/50 - Train Loss: 0.3431, Val Loss: 0.3761\n",
      "Fold 2 Metrics - Precision: 0.7545, Recall: 0.9330, F1: 0.8343, ROC AUC: 0.8294\n",
      "\n",
      "Fold 3/5\n"
     ]
    },
    {
     "name": "stderr",
     "output_type": "stream",
     "text": [
      "Training Progress:  20%|██        | 10/50 [00:03<00:12,  3.24epoch/s]"
     ]
    },
    {
     "name": "stdout",
     "output_type": "stream",
     "text": [
      "Epoch 10/50 - Train Loss: 0.5660, Val Loss: 0.6023\n"
     ]
    },
    {
     "name": "stderr",
     "output_type": "stream",
     "text": [
      "Training Progress:  40%|████      | 20/50 [00:06<00:09,  3.24epoch/s]"
     ]
    },
    {
     "name": "stdout",
     "output_type": "stream",
     "text": [
      "Epoch 20/50 - Train Loss: 0.5018, Val Loss: 0.5126\n"
     ]
    },
    {
     "name": "stderr",
     "output_type": "stream",
     "text": [
      "Training Progress:  60%|██████    | 30/50 [00:09<00:06,  3.24epoch/s]"
     ]
    },
    {
     "name": "stdout",
     "output_type": "stream",
     "text": [
      "Epoch 30/50 - Train Loss: 0.4292, Val Loss: 0.4571\n"
     ]
    },
    {
     "name": "stderr",
     "output_type": "stream",
     "text": [
      "Training Progress:  80%|████████  | 40/50 [00:12<00:03,  3.24epoch/s]"
     ]
    },
    {
     "name": "stdout",
     "output_type": "stream",
     "text": [
      "Epoch 40/50 - Train Loss: 0.3901, Val Loss: 0.3971\n"
     ]
    },
    {
     "name": "stderr",
     "output_type": "stream",
     "text": [
      "Training Progress: 100%|██████████| 50/50 [00:15<00:00,  3.24epoch/s]\n"
     ]
    },
    {
     "name": "stdout",
     "output_type": "stream",
     "text": [
      "Epoch 50/50 - Train Loss: 0.3569, Val Loss: 0.3826\n",
      "Fold 3 Metrics - Precision: 0.7821, Recall: 0.8440, F1: 0.8118, ROC AUC: 0.8126\n",
      "\n",
      "Fold 4/5\n"
     ]
    },
    {
     "name": "stderr",
     "output_type": "stream",
     "text": [
      "Training Progress:  20%|██        | 10/50 [00:03<00:12,  3.24epoch/s]"
     ]
    },
    {
     "name": "stdout",
     "output_type": "stream",
     "text": [
      "Epoch 10/50 - Train Loss: 0.5736, Val Loss: 0.5461\n"
     ]
    },
    {
     "name": "stderr",
     "output_type": "stream",
     "text": [
      "Training Progress:  40%|████      | 20/50 [00:06<00:09,  3.25epoch/s]"
     ]
    },
    {
     "name": "stdout",
     "output_type": "stream",
     "text": [
      "Epoch 20/50 - Train Loss: 0.4973, Val Loss: 0.5004\n"
     ]
    },
    {
     "name": "stderr",
     "output_type": "stream",
     "text": [
      "Training Progress:  60%|██████    | 30/50 [00:09<00:06,  3.23epoch/s]"
     ]
    },
    {
     "name": "stdout",
     "output_type": "stream",
     "text": [
      "Epoch 30/50 - Train Loss: 0.4403, Val Loss: 0.4038\n"
     ]
    },
    {
     "name": "stderr",
     "output_type": "stream",
     "text": [
      "Training Progress:  80%|████████  | 40/50 [00:12<00:03,  3.25epoch/s]"
     ]
    },
    {
     "name": "stdout",
     "output_type": "stream",
     "text": [
      "Epoch 40/50 - Train Loss: 0.3865, Val Loss: 0.3619\n"
     ]
    },
    {
     "name": "stderr",
     "output_type": "stream",
     "text": [
      "Training Progress: 100%|██████████| 50/50 [00:15<00:00,  3.24epoch/s]\n"
     ]
    },
    {
     "name": "stdout",
     "output_type": "stream",
     "text": [
      "Epoch 50/50 - Train Loss: 0.3529, Val Loss: 0.3196\n",
      "Fold 4 Metrics - Precision: 0.8586, Recall: 0.8891, F1: 0.8736, ROC AUC: 0.8693\n",
      "\n",
      "Fold 5/5\n"
     ]
    },
    {
     "name": "stderr",
     "output_type": "stream",
     "text": [
      "Training Progress:  20%|██        | 10/50 [00:03<00:12,  3.23epoch/s]"
     ]
    },
    {
     "name": "stdout",
     "output_type": "stream",
     "text": [
      "Epoch 10/50 - Train Loss: 0.5701, Val Loss: 0.5867\n"
     ]
    },
    {
     "name": "stderr",
     "output_type": "stream",
     "text": [
      "Training Progress:  40%|████      | 20/50 [00:06<00:09,  3.23epoch/s]"
     ]
    },
    {
     "name": "stdout",
     "output_type": "stream",
     "text": [
      "Epoch 20/50 - Train Loss: 0.5148, Val Loss: 0.5122\n"
     ]
    },
    {
     "name": "stderr",
     "output_type": "stream",
     "text": [
      "Training Progress:  60%|██████    | 30/50 [00:09<00:06,  3.21epoch/s]"
     ]
    },
    {
     "name": "stdout",
     "output_type": "stream",
     "text": [
      "Epoch 30/50 - Train Loss: 0.4559, Val Loss: 0.4434\n"
     ]
    },
    {
     "name": "stderr",
     "output_type": "stream",
     "text": [
      "Training Progress:  80%|████████  | 40/50 [00:12<00:03,  3.24epoch/s]"
     ]
    },
    {
     "name": "stdout",
     "output_type": "stream",
     "text": [
      "Epoch 40/50 - Train Loss: 0.3980, Val Loss: 0.3919\n"
     ]
    },
    {
     "name": "stderr",
     "output_type": "stream",
     "text": [
      "Training Progress: 100%|██████████| 50/50 [00:15<00:00,  3.22epoch/s]"
     ]
    },
    {
     "name": "stdout",
     "output_type": "stream",
     "text": [
      "Epoch 50/50 - Train Loss: 0.3598, Val Loss: 0.3400\n",
      "Fold 5 Metrics - Precision: 0.8863, Recall: 0.7924, F1: 0.8367, ROC AUC: 0.8452\n",
      "\n",
      "Average Metrics Across All Folds\n",
      "Precision: 0.8319, Recall: 0.8543, F1: 0.8401, ROC AUC: 0.8419\n"
     ]
    },
    {
     "name": "stderr",
     "output_type": "stream",
     "text": [
      "\n"
     ]
    }
   ],
   "source": [
    "from sklearn.model_selection import KFold\n",
    "from sklearn.metrics import precision_score, recall_score, f1_score, roc_auc_score\n",
    "import numpy as np\n",
    "import torch\n",
    "from torch.utils.data import Dataset, DataLoader\n",
    "import torch.nn as nn\n",
    "import torch.optim as optim\n",
    "from tqdm import tqdm\n",
    "from model import CSIModel\n",
    "import matplotlib.pyplot as plt\n",
    "\n",
    "# Prepare data\n",
    "X_text = np.stack(merged_df['text_embeddings'].values)\n",
    "X_user = merged_df[['friends_count', 'followers_count', 'bi_followers_count']].values\n",
    "y = (merged_df['label']).astype(int).values  # Convert labels to binary\n",
    "\n",
    "# Custom Dataset class\n",
    "class CSIDataset(Dataset):\n",
    "    def __init__(self, text_data, user_data, labels):\n",
    "        self.text_data = text_data\n",
    "        self.user_data = user_data\n",
    "        self.labels = labels\n",
    "\n",
    "    def __len__(self):\n",
    "        return len(self.labels)\n",
    "\n",
    "    def __getitem__(self, idx):\n",
    "        text = torch.tensor(self.text_data[idx], dtype=torch.float32)\n",
    "        user = torch.tensor(self.user_data[idx], dtype=torch.float32)\n",
    "        label = torch.tensor(self.labels[idx], dtype=torch.float32)\n",
    "        return text, user, label\n",
    "\n",
    "\n",
    "# Device Configuration\n",
    "device = torch.device(\"cuda\" if torch.cuda.is_available() else \"cpu\")\n",
    "\n",
    "\n",
    "# Hyperparameters\n",
    "text_embedding_dim = X_text.shape[1]\n",
    "user_feature_dim = X_user.shape[1]\n",
    "lstm_hidden_dim = 32\n",
    "fc_hidden_dim = 16\n",
    "learning_rate = 0.001\n",
    "num_epochs = 50\n",
    "k_folds = 5\n",
    "batch_size = 32\n",
    "\n",
    "# K-Fold Cross-Validation\n",
    "kf = KFold(n_splits=k_folds, shuffle=True, random_state=42)\n",
    "\n",
    "# Loss function\n",
    "criterion = nn.BCELoss()\n",
    "\n",
    "# Store fold results\n",
    "fold_results = []\n",
    "\n",
    "fold_metrics = []\n",
    "\n",
    "\n",
    "for fold, (train_idx, val_idx) in enumerate(kf.split(X_text)):\n",
    "    print(f\"\\nFold {fold + 1}/{k_folds}\")\n",
    "\n",
    "    # Split data into training and validation sets\n",
    "    train_text = X_text[train_idx]\n",
    "    train_user = X_user[train_idx]\n",
    "    train_labels = y[train_idx]\n",
    "\n",
    "    val_text = X_text[val_idx]\n",
    "    val_user = X_user[val_idx]\n",
    "    val_labels = y[val_idx]\n",
    "\n",
    "    # Create DataLoaders for training and validation sets\n",
    "    train_dataset = CSIDataset(train_text, train_user, train_labels)\n",
    "    val_dataset = CSIDataset(val_text, val_user, val_labels)\n",
    "\n",
    "    train_loader = DataLoader(train_dataset, batch_size=batch_size, shuffle=True)\n",
    "    val_loader = DataLoader(val_dataset, batch_size=batch_size, shuffle=False)\n",
    "\n",
    "    # Initialize the model\n",
    "    model = CSIModel(text_embedding_dim, user_feature_dim, lstm_hidden_dim, fc_hidden_dim)\n",
    "    model.to(torch.device(\"cuda\" if torch.cuda.is_available() else \"cpu\"))\n",
    "\n",
    "    # Optimizer\n",
    "    optimizer = optim.Adam(model.parameters(), lr=learning_rate, weight_decay=1e-5)\n",
    "\n",
    "    # Training and Validation\n",
    "    training_losses = []\n",
    "    validation_losses = []\n",
    "    for epoch in tqdm(range(1, num_epochs + 1), desc=\"Training Progress\", unit=\"epoch\"):\n",
    "        model.train()\n",
    "        total_train_loss = 0\n",
    "\n",
    "        for text_batch, user_batch, labels_batch in train_loader:\n",
    "            text_batch = text_batch.unsqueeze(1)\n",
    "            text_batch, user_batch, labels_batch = (\n",
    "                text_batch.to(device),\n",
    "                user_batch.to(device),\n",
    "                labels_batch.to(device),\n",
    "            )\n",
    "\n",
    "            optimizer.zero_grad()\n",
    "            outputs = model(text_batch, user_batch).squeeze()\n",
    "            loss = criterion(outputs, labels_batch)\n",
    "            loss.backward()\n",
    "            optimizer.step()\n",
    "\n",
    "            total_train_loss += loss.item()\n",
    "\n",
    "        avg_train_loss = total_train_loss / len(train_loader)\n",
    "        training_losses.append(avg_train_loss)\n",
    "\n",
    "        # Validation\n",
    "        model.eval()\n",
    "        total_val_loss = 0\n",
    "        val_labels_list = []\n",
    "        val_preds_list = []\n",
    "        with torch.no_grad():\n",
    "            for text_batch, user_batch, labels_batch in val_loader:\n",
    "                text_batch = text_batch.unsqueeze(1)\n",
    "                text_batch, user_batch, labels_batch = (\n",
    "                    text_batch.to(device),\n",
    "                    user_batch.to(device),\n",
    "                    labels_batch.to(device),\n",
    "                )\n",
    "                outputs = model(text_batch, user_batch).squeeze()\n",
    "                loss = criterion(outputs, labels_batch)\n",
    "                total_val_loss += loss.item()\n",
    "\n",
    "                # Collect predictions and labels for metrics\n",
    "                val_labels_list.extend(labels_batch.cpu().numpy())\n",
    "                val_preds_list.extend((outputs > 0.5).cpu().numpy())\n",
    "\n",
    "        avg_val_loss = total_val_loss / len(val_loader)\n",
    "        validation_losses.append(avg_val_loss)\n",
    "\n",
    "        # Print every 10 epochs\n",
    "        if epoch % 10 == 0:\n",
    "            print(f\"Epoch {epoch}/{num_epochs} - Train Loss: {avg_train_loss:.4f}, Val Loss: {avg_val_loss:.4f}\")\n",
    "\n",
    "    # Calculate metrics for the fold\n",
    "    precision = precision_score(val_labels_list, val_preds_list)\n",
    "    recall = recall_score(val_labels_list, val_preds_list)\n",
    "    f1 = f1_score(val_labels_list, val_preds_list)\n",
    "    roc_auc = roc_auc_score(val_labels_list, val_preds_list)\n",
    "    print(f\"Fold {fold + 1} Metrics - Precision: {precision:.4f}, Recall: {recall:.4f}, F1: {f1:.4f}, ROC AUC: {roc_auc:.4f}\")\n",
    "    fold_results.append((precision, recall, f1, roc_auc))\n",
    "\n",
    "    fold_metrics.append({\n",
    "        \"fold\": fold + 1,\n",
    "        \"val_loss\": val_loss / len(val_loader),\n",
    "        \"accuracy\": accuracy,\n",
    "        \"precision\": precision,\n",
    "        \"recall\": recall,\n",
    "        \"f1\": f1\n",
    "    })\n",
    "\n",
    "# Average results across folds\n",
    "average_results = np.mean(fold_results, axis=0)\n",
    "print(\"\\nAverage Metrics Across All Folds\")\n",
    "print(f\"Precision: {average_results[0]:.4f}, Recall: {average_results[1]:.4f}, F1: {average_results[2]:.4f}, ROC AUC: {average_results[3]:.4f}\")\n"
   ]
  },
  {
   "cell_type": "code",
   "execution_count": 14,
   "id": "d3090bb6",
   "metadata": {},
   "outputs": [
    {
     "data": {
      "image/png": "[encoded data removed]",
      "text/plain": [
       "<Figure size 1000x600 with 1 Axes>"
      ]
     },
     "metadata": {},
     "output_type": "display_data"
    }
   ],
   "source": [
    "# Plot losses\n",
    "import matplotlib.pyplot as plt\n",
    "\n",
    "plt.figure(figsize=(10, 6))\n",
    "plt.plot(range(1, num_epochs + 1), training_losses, label='Training Loss', color='blue')\n",
    "plt.plot(range(1, num_epochs + 1), validation_losses, label='Validation Loss', color='orange')\n",
    "plt.xlabel('Epochs')\n",
    "plt.ylabel('Loss')\n",
    "plt.title('Training and Validation Loss Over Epochs')\n",
    "plt.legend()\n",
    "plt.grid(True)\n",
    "\n",
    "# Save the plot to a file\n",
    "plt.savefig('training_validation_loss.png', dpi=300, bbox_inches='tight')\n",
    "\n",
    "# Show the plot\n",
    "plt.show()"
   ]
  },
  {
   "cell_type": "code",
   "execution_count": 26,
   "id": "c20e0434",
   "metadata": {},
   "outputs": [
    {
     "data": {
      "image/png": "[encoded data removed]",
      "text/plain": [
       "<Figure size 1000x600 with 1 Axes>"
      ]
     },
     "metadata": {},
     "output_type": "display_data"
    }
   ],
   "source": [
    "import matplotlib.pyplot as plt\n",
    "\n",
    "# Example fold metrics\n",
    "# Replace this with actual fold_metrics from your code\n",
    "fold_metrics = [\n",
    "    {\"fold\": 1, \"accuracy\": 0.83},\n",
    "    {\"fold\": 2, \"accuracy\": 0.85},\n",
    "    {\"fold\": 3, \"accuracy\": 0.81},\n",
    "    {\"fold\": 4, \"accuracy\": 0.84},\n",
    "    {\"fold\": 5, \"accuracy\": 0.82},\n",
    "]\n",
    "\n",
    "# Extract fold numbers and accuracy values\n",
    "fold_numbers = [metric[\"fold\"] for metric in fold_metrics]\n",
    "accuracy_values = [metric[\"accuracy\"] for metric in fold_metrics]\n",
    "average_accuracy = sum(accuracy_values) / len(accuracy_values)\n",
    "\n",
    "# Plotting the results\n",
    "plt.figure(figsize=(10, 6))\n",
    "plt.bar(fold_numbers, accuracy_values, color=\"skyblue\", label=\"Fold Accuracy\")\n",
    "plt.axhline(average_accuracy, color=\"orange\", linestyle=\"--\", linewidth=2, label=f\"Average Accuracy ({average_accuracy:.4f})\")\n",
    "\n",
    "# Add labels and title\n",
    "plt.xticks(fold_numbers)\n",
    "plt.xlabel(\"Fold Number\")\n",
    "plt.ylabel(\"Accuracy\")\n",
    "plt.title(\"Accuracy Across Folds\")\n",
    "plt.legend()\n",
    "plt.grid(axis=\"y\", linestyle=\"--\", alpha=0.7)\n",
    "\n",
    "# Display the plot\n",
    "plt.tight_layout()\n",
    "plt.show()\n"
   ]
  },
  {
   "cell_type": "code",
   "execution_count": null,
   "id": "da75378f",
   "metadata": {},
   "outputs": [],
   "source": []
  }
 ],
 "metadata": {
  "kernelspec": {
   "display_name": "Python 3",
   "language": "python",
   "name": "python3"
  },
  "language_info": {
   "codemirror_mode": {
    "name": "ipython",
    "version": 3
   },
   "file_extension": ".py",
   "mimetype": "text/x-python",
   "name": "python",
   "nbconvert_exporter": "python",
   "pygments_lexer": "ipython3",
   "version": "3.8.6"
  }
 },
 "nbformat": 4,
 "nbformat_minor": 5
}
